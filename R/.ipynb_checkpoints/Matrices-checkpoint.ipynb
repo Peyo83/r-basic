{
 "cells": [
  {
   "cell_type": "markdown",
   "metadata": {},
   "source": [
    "# Matrices"
   ]
  },
  {
   "cell_type": "code",
   "execution_count": 1,
   "metadata": {},
   "outputs": [
    {
     "data": {
      "text/html": [
       "<table>\n",
       "<caption>A matrix: 4 × 3 of type int</caption>\n",
       "<tbody>\n",
       "\t<tr><td>1</td><td>5</td><td> 9</td></tr>\n",
       "\t<tr><td>2</td><td>6</td><td>10</td></tr>\n",
       "\t<tr><td>3</td><td>7</td><td>11</td></tr>\n",
       "\t<tr><td>4</td><td>8</td><td>12</td></tr>\n",
       "</tbody>\n",
       "</table>\n"
      ],
      "text/latex": [
       "A matrix: 4 × 3 of type int\n",
       "\\begin{tabular}{lll}\n",
       "\t 1 & 5 &  9\\\\\n",
       "\t 2 & 6 & 10\\\\\n",
       "\t 3 & 7 & 11\\\\\n",
       "\t 4 & 8 & 12\\\\\n",
       "\\end{tabular}\n"
      ],
      "text/markdown": [
       "\n",
       "A matrix: 4 × 3 of type int\n",
       "\n",
       "| 1 | 5 |  9 |\n",
       "| 2 | 6 | 10 |\n",
       "| 3 | 7 | 11 |\n",
       "| 4 | 8 | 12 |\n",
       "\n"
      ],
      "text/plain": [
       "     [,1] [,2] [,3]\n",
       "[1,] 1    5     9  \n",
       "[2,] 2    6    10  \n",
       "[3,] 3    7    11  \n",
       "[4,] 4    8    12  "
      ]
     },
     "metadata": {},
     "output_type": "display_data"
    }
   ],
   "source": [
    "M = matrix(1:12, nrow = 4)\n",
    "M"
   ]
  },
  {
   "cell_type": "code",
   "execution_count": 2,
   "metadata": {},
   "outputs": [
    {
     "data": {
      "text/html": [
       "<table>\n",
       "<caption>A matrix: 4 × 3 of type int</caption>\n",
       "<tbody>\n",
       "\t<tr><td> 1</td><td> 2</td><td> 3</td></tr>\n",
       "\t<tr><td> 4</td><td> 5</td><td> 6</td></tr>\n",
       "\t<tr><td> 7</td><td> 8</td><td> 9</td></tr>\n",
       "\t<tr><td>10</td><td>11</td><td>12</td></tr>\n",
       "</tbody>\n",
       "</table>\n"
      ],
      "text/latex": [
       "A matrix: 4 × 3 of type int\n",
       "\\begin{tabular}{lll}\n",
       "\t  1 &  2 &  3\\\\\n",
       "\t  4 &  5 &  6\\\\\n",
       "\t  7 &  8 &  9\\\\\n",
       "\t 10 & 11 & 12\\\\\n",
       "\\end{tabular}\n"
      ],
      "text/markdown": [
       "\n",
       "A matrix: 4 × 3 of type int\n",
       "\n",
       "|  1 |  2 |  3 |\n",
       "|  4 |  5 |  6 |\n",
       "|  7 |  8 |  9 |\n",
       "| 10 | 11 | 12 |\n",
       "\n"
      ],
      "text/plain": [
       "     [,1] [,2] [,3]\n",
       "[1,]  1    2    3  \n",
       "[2,]  4    5    6  \n",
       "[3,]  7    8    9  \n",
       "[4,] 10   11   12  "
      ]
     },
     "metadata": {},
     "output_type": "display_data"
    }
   ],
   "source": [
    "M = matrix(1:12, nrow = 4, byrow = T)\n",
    "M"
   ]
  },
  {
   "cell_type": "code",
   "execution_count": 3,
   "metadata": {},
   "outputs": [
    {
     "data": {
      "text/html": [
       "<table>\n",
       "<caption>A matrix: 3 × 4 of type int</caption>\n",
       "<tbody>\n",
       "\t<tr><td>1</td><td>4</td><td>7</td><td>10</td></tr>\n",
       "\t<tr><td>2</td><td>5</td><td>8</td><td>11</td></tr>\n",
       "\t<tr><td>3</td><td>6</td><td>9</td><td>12</td></tr>\n",
       "</tbody>\n",
       "</table>\n"
      ],
      "text/latex": [
       "A matrix: 3 × 4 of type int\n",
       "\\begin{tabular}{llll}\n",
       "\t 1 & 4 & 7 & 10\\\\\n",
       "\t 2 & 5 & 8 & 11\\\\\n",
       "\t 3 & 6 & 9 & 12\\\\\n",
       "\\end{tabular}\n"
      ],
      "text/markdown": [
       "\n",
       "A matrix: 3 × 4 of type int\n",
       "\n",
       "| 1 | 4 | 7 | 10 |\n",
       "| 2 | 5 | 8 | 11 |\n",
       "| 3 | 6 | 9 | 12 |\n",
       "\n"
      ],
      "text/plain": [
       "     [,1] [,2] [,3] [,4]\n",
       "[1,] 1    4    7    10  \n",
       "[2,] 2    5    8    11  \n",
       "[3,] 3    6    9    12  "
      ]
     },
     "metadata": {},
     "output_type": "display_data"
    }
   ],
   "source": [
    "M = matrix(1:12, nrow = 3)\n",
    "M"
   ]
  },
  {
   "cell_type": "code",
   "execution_count": 4,
   "metadata": {},
   "outputs": [
    {
     "name": "stderr",
     "output_type": "stream",
     "text": [
      "Warning message in matrix(1:12, nrow = 5):\n",
      "“data length [12] is not a sub-multiple or multiple of the number of rows [5]”\n"
     ]
    },
    {
     "data": {
      "text/html": [
       "<table>\n",
       "<caption>A matrix: 5 × 3 of type int</caption>\n",
       "<tbody>\n",
       "\t<tr><td>1</td><td> 6</td><td>11</td></tr>\n",
       "\t<tr><td>2</td><td> 7</td><td>12</td></tr>\n",
       "\t<tr><td>3</td><td> 8</td><td> 1</td></tr>\n",
       "\t<tr><td>4</td><td> 9</td><td> 2</td></tr>\n",
       "\t<tr><td>5</td><td>10</td><td> 3</td></tr>\n",
       "</tbody>\n",
       "</table>\n"
      ],
      "text/latex": [
       "A matrix: 5 × 3 of type int\n",
       "\\begin{tabular}{lll}\n",
       "\t 1 &  6 & 11\\\\\n",
       "\t 2 &  7 & 12\\\\\n",
       "\t 3 &  8 &  1\\\\\n",
       "\t 4 &  9 &  2\\\\\n",
       "\t 5 & 10 &  3\\\\\n",
       "\\end{tabular}\n"
      ],
      "text/markdown": [
       "\n",
       "A matrix: 5 × 3 of type int\n",
       "\n",
       "| 1 |  6 | 11 |\n",
       "| 2 |  7 | 12 |\n",
       "| 3 |  8 |  1 |\n",
       "| 4 |  9 |  2 |\n",
       "| 5 | 10 |  3 |\n",
       "\n"
      ],
      "text/plain": [
       "     [,1] [,2] [,3]\n",
       "[1,] 1     6   11  \n",
       "[2,] 2     7   12  \n",
       "[3,] 3     8    1  \n",
       "[4,] 4     9    2  \n",
       "[5,] 5    10    3  "
      ]
     },
     "metadata": {},
     "output_type": "display_data"
    }
   ],
   "source": [
    "M = matrix(1:12, nrow = 5)\n",
    "M"
   ]
  },
  {
   "cell_type": "code",
   "execution_count": 5,
   "metadata": {},
   "outputs": [
    {
     "data": {
      "text/html": [
       "<table>\n",
       "<caption>A matrix: 4 × 6 of type dbl</caption>\n",
       "<tbody>\n",
       "\t<tr><td>1</td><td>1</td><td>1</td><td>1</td><td>1</td><td>1</td></tr>\n",
       "\t<tr><td>1</td><td>1</td><td>1</td><td>1</td><td>1</td><td>1</td></tr>\n",
       "\t<tr><td>1</td><td>1</td><td>1</td><td>1</td><td>1</td><td>1</td></tr>\n",
       "\t<tr><td>1</td><td>1</td><td>1</td><td>1</td><td>1</td><td>1</td></tr>\n",
       "</tbody>\n",
       "</table>\n"
      ],
      "text/latex": [
       "A matrix: 4 × 6 of type dbl\n",
       "\\begin{tabular}{llllll}\n",
       "\t 1 & 1 & 1 & 1 & 1 & 1\\\\\n",
       "\t 1 & 1 & 1 & 1 & 1 & 1\\\\\n",
       "\t 1 & 1 & 1 & 1 & 1 & 1\\\\\n",
       "\t 1 & 1 & 1 & 1 & 1 & 1\\\\\n",
       "\\end{tabular}\n"
      ],
      "text/markdown": [
       "\n",
       "A matrix: 4 × 6 of type dbl\n",
       "\n",
       "| 1 | 1 | 1 | 1 | 1 | 1 |\n",
       "| 1 | 1 | 1 | 1 | 1 | 1 |\n",
       "| 1 | 1 | 1 | 1 | 1 | 1 |\n",
       "| 1 | 1 | 1 | 1 | 1 | 1 |\n",
       "\n"
      ],
      "text/plain": [
       "     [,1] [,2] [,3] [,4] [,5] [,6]\n",
       "[1,] 1    1    1    1    1    1   \n",
       "[2,] 1    1    1    1    1    1   \n",
       "[3,] 1    1    1    1    1    1   \n",
       "[4,] 1    1    1    1    1    1   "
      ]
     },
     "metadata": {},
     "output_type": "display_data"
    }
   ],
   "source": [
    "matrix(1, nrow = 4, ncol = 6)"
   ]
  },
  {
   "cell_type": "markdown",
   "metadata": {},
   "source": [
    "**Definir una matriz constante**"
   ]
  },
  {
   "cell_type": "code",
   "execution_count": 6,
   "metadata": {},
   "outputs": [
    {
     "data": {
      "text/html": [
       "<table>\n",
       "<caption>A matrix: 3 × 5 of type dbl</caption>\n",
       "<tbody>\n",
       "\t<tr><td>0</td><td>0</td><td>0</td><td>0</td><td>0</td></tr>\n",
       "\t<tr><td>0</td><td>0</td><td>0</td><td>0</td><td>0</td></tr>\n",
       "\t<tr><td>0</td><td>0</td><td>0</td><td>0</td><td>0</td></tr>\n",
       "</tbody>\n",
       "</table>\n"
      ],
      "text/latex": [
       "A matrix: 3 × 5 of type dbl\n",
       "\\begin{tabular}{lllll}\n",
       "\t 0 & 0 & 0 & 0 & 0\\\\\n",
       "\t 0 & 0 & 0 & 0 & 0\\\\\n",
       "\t 0 & 0 & 0 & 0 & 0\\\\\n",
       "\\end{tabular}\n"
      ],
      "text/markdown": [
       "\n",
       "A matrix: 3 × 5 of type dbl\n",
       "\n",
       "| 0 | 0 | 0 | 0 | 0 |\n",
       "| 0 | 0 | 0 | 0 | 0 |\n",
       "| 0 | 0 | 0 | 0 | 0 |\n",
       "\n"
      ],
      "text/plain": [
       "     [,1] [,2] [,3] [,4] [,5]\n",
       "[1,] 0    0    0    0    0   \n",
       "[2,] 0    0    0    0    0   \n",
       "[3,] 0    0    0    0    0   "
      ]
     },
     "metadata": {},
     "output_type": "display_data"
    }
   ],
   "source": [
    "n = 3\n",
    "m = 5\n",
    "k = 0\n",
    "\n",
    "matrix(k, nrow = n, ncol = m)"
   ]
  },
  {
   "cell_type": "code",
   "execution_count": 7,
   "metadata": {},
   "outputs": [
    {
     "data": {
      "text/html": [
       "<table>\n",
       "<caption>A matrix: 7 × 3 of type dbl</caption>\n",
       "<tbody>\n",
       "\t<tr><td> 1</td><td> 6</td><td>11</td></tr>\n",
       "\t<tr><td> 2</td><td> 7</td><td>12</td></tr>\n",
       "\t<tr><td> 3</td><td> 8</td><td> 1</td></tr>\n",
       "\t<tr><td> 4</td><td> 9</td><td> 2</td></tr>\n",
       "\t<tr><td> 5</td><td>10</td><td> 3</td></tr>\n",
       "\t<tr><td> 1</td><td> 2</td><td> 3</td></tr>\n",
       "\t<tr><td>-1</td><td>-2</td><td>-3</td></tr>\n",
       "</tbody>\n",
       "</table>\n"
      ],
      "text/latex": [
       "A matrix: 7 × 3 of type dbl\n",
       "\\begin{tabular}{lll}\n",
       "\t  1 &  6 & 11\\\\\n",
       "\t  2 &  7 & 12\\\\\n",
       "\t  3 &  8 &  1\\\\\n",
       "\t  4 &  9 &  2\\\\\n",
       "\t  5 & 10 &  3\\\\\n",
       "\t  1 &  2 &  3\\\\\n",
       "\t -1 & -2 & -3\\\\\n",
       "\\end{tabular}\n"
      ],
      "text/markdown": [
       "\n",
       "A matrix: 7 × 3 of type dbl\n",
       "\n",
       "|  1 |  6 | 11 |\n",
       "|  2 |  7 | 12 |\n",
       "|  3 |  8 |  1 |\n",
       "|  4 |  9 |  2 |\n",
       "|  5 | 10 |  3 |\n",
       "|  1 |  2 |  3 |\n",
       "| -1 | -2 | -3 |\n",
       "\n"
      ],
      "text/plain": [
       "     [,1] [,2] [,3]\n",
       "[1,]  1    6   11  \n",
       "[2,]  2    7   12  \n",
       "[3,]  3    8    1  \n",
       "[4,]  4    9    2  \n",
       "[5,]  5   10    3  \n",
       "[6,]  1    2    3  \n",
       "[7,] -1   -2   -3  "
      ]
     },
     "metadata": {},
     "output_type": "display_data"
    }
   ],
   "source": [
    "rbind(M, c(1,2,3), c(-1,-2,-3))"
   ]
  },
  {
   "cell_type": "code",
   "execution_count": 9,
   "metadata": {},
   "outputs": [
    {
     "data": {
      "text/html": [
       "<table>\n",
       "<caption>A matrix: 5 × 5 of type dbl</caption>\n",
       "<tbody>\n",
       "\t<tr><td>1</td><td> 6</td><td>11</td><td>1</td><td>-1</td></tr>\n",
       "\t<tr><td>2</td><td> 7</td><td>12</td><td>2</td><td>-2</td></tr>\n",
       "\t<tr><td>3</td><td> 8</td><td> 1</td><td>3</td><td>-3</td></tr>\n",
       "\t<tr><td>4</td><td> 9</td><td> 2</td><td>4</td><td>-4</td></tr>\n",
       "\t<tr><td>5</td><td>10</td><td> 3</td><td>5</td><td>-5</td></tr>\n",
       "</tbody>\n",
       "</table>\n"
      ],
      "text/latex": [
       "A matrix: 5 × 5 of type dbl\n",
       "\\begin{tabular}{lllll}\n",
       "\t 1 &  6 & 11 & 1 & -1\\\\\n",
       "\t 2 &  7 & 12 & 2 & -2\\\\\n",
       "\t 3 &  8 &  1 & 3 & -3\\\\\n",
       "\t 4 &  9 &  2 & 4 & -4\\\\\n",
       "\t 5 & 10 &  3 & 5 & -5\\\\\n",
       "\\end{tabular}\n"
      ],
      "text/markdown": [
       "\n",
       "A matrix: 5 × 5 of type dbl\n",
       "\n",
       "| 1 |  6 | 11 | 1 | -1 |\n",
       "| 2 |  7 | 12 | 2 | -2 |\n",
       "| 3 |  8 |  1 | 3 | -3 |\n",
       "| 4 |  9 |  2 | 4 | -4 |\n",
       "| 5 | 10 |  3 | 5 | -5 |\n",
       "\n"
      ],
      "text/plain": [
       "     [,1] [,2] [,3] [,4] [,5]\n",
       "[1,] 1     6   11   1    -1  \n",
       "[2,] 2     7   12   2    -2  \n",
       "[3,] 3     8    1   3    -3  \n",
       "[4,] 4     9    2   4    -4  \n",
       "[5,] 5    10    3   5    -5  "
      ]
     },
     "metadata": {},
     "output_type": "display_data"
    }
   ],
   "source": [
    "cbind(M, c(1,2,3,4,5), c(-1,-2,-3,-4,-5))"
   ]
  },
  {
   "cell_type": "code",
   "execution_count": 10,
   "metadata": {},
   "outputs": [
    {
     "data": {
      "text/html": [
       "<table>\n",
       "<caption>A matrix: 4 × 4 of type dbl</caption>\n",
       "<tbody>\n",
       "\t<tr><td>1</td><td>0</td><td>0</td><td>0</td></tr>\n",
       "\t<tr><td>0</td><td>2</td><td>0</td><td>0</td></tr>\n",
       "\t<tr><td>0</td><td>0</td><td>3</td><td>0</td></tr>\n",
       "\t<tr><td>0</td><td>0</td><td>0</td><td>4</td></tr>\n",
       "</tbody>\n",
       "</table>\n"
      ],
      "text/latex": [
       "A matrix: 4 × 4 of type dbl\n",
       "\\begin{tabular}{llll}\n",
       "\t 1 & 0 & 0 & 0\\\\\n",
       "\t 0 & 2 & 0 & 0\\\\\n",
       "\t 0 & 0 & 3 & 0\\\\\n",
       "\t 0 & 0 & 0 & 4\\\\\n",
       "\\end{tabular}\n"
      ],
      "text/markdown": [
       "\n",
       "A matrix: 4 × 4 of type dbl\n",
       "\n",
       "| 1 | 0 | 0 | 0 |\n",
       "| 0 | 2 | 0 | 0 |\n",
       "| 0 | 0 | 3 | 0 |\n",
       "| 0 | 0 | 0 | 4 |\n",
       "\n"
      ],
      "text/plain": [
       "     [,1] [,2] [,3] [,4]\n",
       "[1,] 1    0    0    0   \n",
       "[2,] 0    2    0    0   \n",
       "[3,] 0    0    3    0   \n",
       "[4,] 0    0    0    4   "
      ]
     },
     "metadata": {},
     "output_type": "display_data"
    }
   ],
   "source": [
    "diag(c(1,2,3,4))"
   ]
  },
  {
   "cell_type": "code",
   "execution_count": 11,
   "metadata": {},
   "outputs": [
    {
     "data": {
      "text/html": [
       "<table>\n",
       "<caption>A matrix: 4 × 4 of type dbl</caption>\n",
       "<tbody>\n",
       "\t<tr><td>5</td><td>0</td><td>0</td><td>0</td></tr>\n",
       "\t<tr><td>0</td><td>5</td><td>0</td><td>0</td></tr>\n",
       "\t<tr><td>0</td><td>0</td><td>5</td><td>0</td></tr>\n",
       "\t<tr><td>0</td><td>0</td><td>0</td><td>5</td></tr>\n",
       "</tbody>\n",
       "</table>\n"
      ],
      "text/latex": [
       "A matrix: 4 × 4 of type dbl\n",
       "\\begin{tabular}{llll}\n",
       "\t 5 & 0 & 0 & 0\\\\\n",
       "\t 0 & 5 & 0 & 0\\\\\n",
       "\t 0 & 0 & 5 & 0\\\\\n",
       "\t 0 & 0 & 0 & 5\\\\\n",
       "\\end{tabular}\n"
      ],
      "text/markdown": [
       "\n",
       "A matrix: 4 × 4 of type dbl\n",
       "\n",
       "| 5 | 0 | 0 | 0 |\n",
       "| 0 | 5 | 0 | 0 |\n",
       "| 0 | 0 | 5 | 0 |\n",
       "| 0 | 0 | 0 | 5 |\n",
       "\n"
      ],
      "text/plain": [
       "     [,1] [,2] [,3] [,4]\n",
       "[1,] 5    0    0    0   \n",
       "[2,] 0    5    0    0   \n",
       "[3,] 0    0    5    0   \n",
       "[4,] 0    0    0    5   "
      ]
     },
     "metadata": {},
     "output_type": "display_data"
    }
   ],
   "source": [
    "diag(5, nrow = 4)"
   ]
  },
  {
   "cell_type": "code",
   "execution_count": 12,
   "metadata": {},
   "outputs": [
    {
     "data": {
      "text/html": [
       "12"
      ],
      "text/latex": [
       "12"
      ],
      "text/markdown": [
       "12"
      ],
      "text/plain": [
       "[1] 12"
      ]
     },
     "metadata": {},
     "output_type": "display_data"
    }
   ],
   "source": [
    "M[2,3]"
   ]
  },
  {
   "cell_type": "code",
   "execution_count": 14,
   "metadata": {},
   "outputs": [
    {
     "data": {
      "text/html": [
       "<style>\n",
       ".list-inline {list-style: none; margin:0; padding: 0}\n",
       ".list-inline>li {display: inline-block}\n",
       ".list-inline>li:not(:last-child)::after {content: \"\\00b7\"; padding: 0 .5ex}\n",
       "</style>\n",
       "<ol class=list-inline><li>2</li><li>7</li><li>12</li></ol>\n"
      ],
      "text/latex": [
       "\\begin{enumerate*}\n",
       "\\item 2\n",
       "\\item 7\n",
       "\\item 12\n",
       "\\end{enumerate*}\n"
      ],
      "text/markdown": [
       "1. 2\n",
       "2. 7\n",
       "3. 12\n",
       "\n",
       "\n"
      ],
      "text/plain": [
       "[1]  2  7 12"
      ]
     },
     "metadata": {},
     "output_type": "display_data"
    }
   ],
   "source": [
    "M[2,]"
   ]
  },
  {
   "cell_type": "code",
   "execution_count": 15,
   "metadata": {},
   "outputs": [
    {
     "data": {
      "text/html": [
       "<style>\n",
       ".list-inline {list-style: none; margin:0; padding: 0}\n",
       ".list-inline>li {display: inline-block}\n",
       ".list-inline>li:not(:last-child)::after {content: \"\\00b7\"; padding: 0 .5ex}\n",
       "</style>\n",
       "<ol class=list-inline><li>11</li><li>12</li><li>1</li><li>2</li><li>3</li></ol>\n"
      ],
      "text/latex": [
       "\\begin{enumerate*}\n",
       "\\item 11\n",
       "\\item 12\n",
       "\\item 1\n",
       "\\item 2\n",
       "\\item 3\n",
       "\\end{enumerate*}\n"
      ],
      "text/markdown": [
       "1. 11\n",
       "2. 12\n",
       "3. 1\n",
       "4. 2\n",
       "5. 3\n",
       "\n",
       "\n"
      ],
      "text/plain": [
       "[1] 11 12  1  2  3"
      ]
     },
     "metadata": {},
     "output_type": "display_data"
    }
   ],
   "source": [
    "M[,3]"
   ]
  },
  {
   "cell_type": "code",
   "execution_count": 16,
   "metadata": {},
   "outputs": [
    {
     "data": {
      "text/html": [
       "<table>\n",
       "<caption>A matrix: 3 × 2 of type int</caption>\n",
       "<tbody>\n",
       "\t<tr><td>2</td><td> 7</td></tr>\n",
       "\t<tr><td>3</td><td> 8</td></tr>\n",
       "\t<tr><td>5</td><td>10</td></tr>\n",
       "</tbody>\n",
       "</table>\n"
      ],
      "text/latex": [
       "A matrix: 3 × 2 of type int\n",
       "\\begin{tabular}{ll}\n",
       "\t 2 &  7\\\\\n",
       "\t 3 &  8\\\\\n",
       "\t 5 & 10\\\\\n",
       "\\end{tabular}\n"
      ],
      "text/markdown": [
       "\n",
       "A matrix: 3 × 2 of type int\n",
       "\n",
       "| 2 |  7 |\n",
       "| 3 |  8 |\n",
       "| 5 | 10 |\n",
       "\n"
      ],
      "text/plain": [
       "     [,1] [,2]\n",
       "[1,] 2     7  \n",
       "[2,] 3     8  \n",
       "[3,] 5    10  "
      ]
     },
     "metadata": {},
     "output_type": "display_data"
    }
   ],
   "source": [
    "M[c(2,3,5), 1:2]"
   ]
  },
  {
   "cell_type": "code",
   "execution_count": 17,
   "metadata": {},
   "outputs": [
    {
     "data": {
      "text/html": [
       "<style>\n",
       ".list-inline {list-style: none; margin:0; padding: 0}\n",
       ".list-inline>li {display: inline-block}\n",
       ".list-inline>li:not(:last-child)::after {content: \"\\00b7\"; padding: 0 .5ex}\n",
       "</style>\n",
       "<ol class=list-inline><li>1</li><li>7</li><li>1</li></ol>\n"
      ],
      "text/latex": [
       "\\begin{enumerate*}\n",
       "\\item 1\n",
       "\\item 7\n",
       "\\item 1\n",
       "\\end{enumerate*}\n"
      ],
      "text/markdown": [
       "1. 1\n",
       "2. 7\n",
       "3. 1\n",
       "\n",
       "\n"
      ],
      "text/plain": [
       "[1] 1 7 1"
      ]
     },
     "metadata": {},
     "output_type": "display_data"
    }
   ],
   "source": [
    "diag(M)"
   ]
  },
  {
   "cell_type": "code",
   "execution_count": 18,
   "metadata": {},
   "outputs": [
    {
     "data": {
      "text/html": [
       "5"
      ],
      "text/latex": [
       "5"
      ],
      "text/markdown": [
       "5"
      ],
      "text/plain": [
       "[1] 5"
      ]
     },
     "metadata": {},
     "output_type": "display_data"
    }
   ],
   "source": [
    "nrow(M)"
   ]
  },
  {
   "cell_type": "code",
   "execution_count": 19,
   "metadata": {},
   "outputs": [
    {
     "data": {
      "text/html": [
       "3"
      ],
      "text/latex": [
       "3"
      ],
      "text/markdown": [
       "3"
      ],
      "text/plain": [
       "[1] 3"
      ]
     },
     "metadata": {},
     "output_type": "display_data"
    }
   ],
   "source": [
    "ncol(M)"
   ]
  },
  {
   "cell_type": "code",
   "execution_count": 20,
   "metadata": {},
   "outputs": [
    {
     "data": {
      "text/html": [
       "<style>\n",
       ".list-inline {list-style: none; margin:0; padding: 0}\n",
       ".list-inline>li {display: inline-block}\n",
       ".list-inline>li:not(:last-child)::after {content: \"\\00b7\"; padding: 0 .5ex}\n",
       "</style>\n",
       "<ol class=list-inline><li>5</li><li>3</li></ol>\n"
      ],
      "text/latex": [
       "\\begin{enumerate*}\n",
       "\\item 5\n",
       "\\item 3\n",
       "\\end{enumerate*}\n"
      ],
      "text/markdown": [
       "1. 5\n",
       "2. 3\n",
       "\n",
       "\n"
      ],
      "text/plain": [
       "[1] 5 3"
      ]
     },
     "metadata": {},
     "output_type": "display_data"
    }
   ],
   "source": [
    "dim(M)"
   ]
  },
  {
   "cell_type": "code",
   "execution_count": 21,
   "metadata": {},
   "outputs": [
    {
     "data": {
      "text/html": [
       "84"
      ],
      "text/latex": [
       "84"
      ],
      "text/markdown": [
       "84"
      ],
      "text/plain": [
       "[1] 84"
      ]
     },
     "metadata": {},
     "output_type": "display_data"
    }
   ],
   "source": [
    "sum(M)"
   ]
  },
  {
   "cell_type": "code",
   "execution_count": 22,
   "metadata": {},
   "outputs": [
    {
     "data": {
      "text/html": [
       "2874009600"
      ],
      "text/latex": [
       "2874009600"
      ],
      "text/markdown": [
       "2874009600"
      ],
      "text/plain": [
       "[1] 2874009600"
      ]
     },
     "metadata": {},
     "output_type": "display_data"
    }
   ],
   "source": [
    "prod(M)"
   ]
  },
  {
   "cell_type": "code",
   "execution_count": 23,
   "metadata": {},
   "outputs": [
    {
     "data": {
      "text/html": [
       "5.6"
      ],
      "text/latex": [
       "5.6"
      ],
      "text/markdown": [
       "5.6"
      ],
      "text/plain": [
       "[1] 5.6"
      ]
     },
     "metadata": {},
     "output_type": "display_data"
    }
   ],
   "source": [
    "mean(M)"
   ]
  },
  {
   "cell_type": "code",
   "execution_count": 24,
   "metadata": {},
   "outputs": [
    {
     "data": {
      "text/html": [
       "<style>\n",
       ".list-inline {list-style: none; margin:0; padding: 0}\n",
       ".list-inline>li {display: inline-block}\n",
       ".list-inline>li:not(:last-child)::after {content: \"\\00b7\"; padding: 0 .5ex}\n",
       "</style>\n",
       "<ol class=list-inline><li>15</li><li>40</li><li>29</li></ol>\n"
      ],
      "text/latex": [
       "\\begin{enumerate*}\n",
       "\\item 15\n",
       "\\item 40\n",
       "\\item 29\n",
       "\\end{enumerate*}\n"
      ],
      "text/markdown": [
       "1. 15\n",
       "2. 40\n",
       "3. 29\n",
       "\n",
       "\n"
      ],
      "text/plain": [
       "[1] 15 40 29"
      ]
     },
     "metadata": {},
     "output_type": "display_data"
    }
   ],
   "source": [
    "colSums(M)"
   ]
  },
  {
   "cell_type": "code",
   "execution_count": 25,
   "metadata": {},
   "outputs": [
    {
     "data": {
      "text/html": [
       "<style>\n",
       ".list-inline {list-style: none; margin:0; padding: 0}\n",
       ".list-inline>li {display: inline-block}\n",
       ".list-inline>li:not(:last-child)::after {content: \"\\00b7\"; padding: 0 .5ex}\n",
       "</style>\n",
       "<ol class=list-inline><li>18</li><li>21</li><li>12</li><li>15</li><li>18</li></ol>\n"
      ],
      "text/latex": [
       "\\begin{enumerate*}\n",
       "\\item 18\n",
       "\\item 21\n",
       "\\item 12\n",
       "\\item 15\n",
       "\\item 18\n",
       "\\end{enumerate*}\n"
      ],
      "text/markdown": [
       "1. 18\n",
       "2. 21\n",
       "3. 12\n",
       "4. 15\n",
       "5. 18\n",
       "\n",
       "\n"
      ],
      "text/plain": [
       "[1] 18 21 12 15 18"
      ]
     },
     "metadata": {},
     "output_type": "display_data"
    }
   ],
   "source": [
    "rowSums(M)"
   ]
  },
  {
   "cell_type": "code",
   "execution_count": 26,
   "metadata": {},
   "outputs": [
    {
     "data": {
      "text/html": [
       "<style>\n",
       ".list-inline {list-style: none; margin:0; padding: 0}\n",
       ".list-inline>li {display: inline-block}\n",
       ".list-inline>li:not(:last-child)::after {content: \"\\00b7\"; padding: 0 .5ex}\n",
       "</style>\n",
       "<ol class=list-inline><li>3</li><li>8</li><li>5.8</li></ol>\n"
      ],
      "text/latex": [
       "\\begin{enumerate*}\n",
       "\\item 3\n",
       "\\item 8\n",
       "\\item 5.8\n",
       "\\end{enumerate*}\n"
      ],
      "text/markdown": [
       "1. 3\n",
       "2. 8\n",
       "3. 5.8\n",
       "\n",
       "\n"
      ],
      "text/plain": [
       "[1] 3.0 8.0 5.8"
      ]
     },
     "metadata": {},
     "output_type": "display_data"
    }
   ],
   "source": [
    "colMeans(M)"
   ]
  },
  {
   "cell_type": "code",
   "execution_count": 27,
   "metadata": {},
   "outputs": [
    {
     "data": {
      "text/html": [
       "<style>\n",
       ".list-inline {list-style: none; margin:0; padding: 0}\n",
       ".list-inline>li {display: inline-block}\n",
       ".list-inline>li:not(:last-child)::after {content: \"\\00b7\"; padding: 0 .5ex}\n",
       "</style>\n",
       "<ol class=list-inline><li>6</li><li>7</li><li>4</li><li>5</li><li>6</li></ol>\n"
      ],
      "text/latex": [
       "\\begin{enumerate*}\n",
       "\\item 6\n",
       "\\item 7\n",
       "\\item 4\n",
       "\\item 5\n",
       "\\item 6\n",
       "\\end{enumerate*}\n"
      ],
      "text/markdown": [
       "1. 6\n",
       "2. 7\n",
       "3. 4\n",
       "4. 5\n",
       "5. 6\n",
       "\n",
       "\n"
      ],
      "text/plain": [
       "[1] 6 7 4 5 6"
      ]
     },
     "metadata": {},
     "output_type": "display_data"
    }
   ],
   "source": [
    "rowMeans(M)"
   ]
  },
  {
   "cell_type": "code",
   "execution_count": 29,
   "metadata": {},
   "outputs": [
    {
     "data": {
      "text/html": [
       "<style>\n",
       ".list-inline {list-style: none; margin:0; padding: 0}\n",
       ".list-inline>li {display: inline-block}\n",
       ".list-inline>li:not(:last-child)::after {content: \"\\00b7\"; padding: 0 .5ex}\n",
       "</style>\n",
       "<ol class=list-inline><li>12.5698050899765</li><li>14.0356688476182</li><li>8.60232526704263</li><li>10.0498756211209</li><li>11.5758369027902</li></ol>\n"
      ],
      "text/latex": [
       "\\begin{enumerate*}\n",
       "\\item 12.5698050899765\n",
       "\\item 14.0356688476182\n",
       "\\item 8.60232526704263\n",
       "\\item 10.0498756211209\n",
       "\\item 11.5758369027902\n",
       "\\end{enumerate*}\n"
      ],
      "text/markdown": [
       "1. 12.5698050899765\n",
       "2. 14.0356688476182\n",
       "3. 8.60232526704263\n",
       "4. 10.0498756211209\n",
       "5. 11.5758369027902\n",
       "\n",
       "\n"
      ],
      "text/plain": [
       "[1] 12.569805 14.035669  8.602325 10.049876 11.575837"
      ]
     },
     "metadata": {},
     "output_type": "display_data"
    }
   ],
   "source": [
    "apply(M, MARGIN = 1, FUN = function(x){sqrt(sum(x^2))})"
   ]
  },
  {
   "cell_type": "code",
   "execution_count": 30,
   "metadata": {},
   "outputs": [
    {
     "data": {
      "text/html": [
       "<style>\n",
       ".list-inline {list-style: none; margin:0; padding: 0}\n",
       ".list-inline>li {display: inline-block}\n",
       ".list-inline>li:not(:last-child)::after {content: \"\\00b7\"; padding: 0 .5ex}\n",
       "</style>\n",
       "<ol class=list-inline><li>7.41619848709566</li><li>18.1659021245849</li><li>16.7032930884901</li></ol>\n"
      ],
      "text/latex": [
       "\\begin{enumerate*}\n",
       "\\item 7.41619848709566\n",
       "\\item 18.1659021245849\n",
       "\\item 16.7032930884901\n",
       "\\end{enumerate*}\n"
      ],
      "text/markdown": [
       "1. 7.41619848709566\n",
       "2. 18.1659021245849\n",
       "3. 16.7032930884901\n",
       "\n",
       "\n"
      ],
      "text/plain": [
       "[1]  7.416198 18.165902 16.703293"
      ]
     },
     "metadata": {},
     "output_type": "display_data"
    }
   ],
   "source": [
    "apply(M, MARGIN = 2, FUN = function(x){sqrt(sum(x^2))})"
   ]
  },
  {
   "cell_type": "code",
   "execution_count": 32,
   "metadata": {},
   "outputs": [
    {
     "data": {
      "text/html": [
       "<table>\n",
       "<caption>A matrix: 5 × 3 of type dbl</caption>\n",
       "<tbody>\n",
       "\t<tr><td> 1</td><td> 36</td><td>121</td></tr>\n",
       "\t<tr><td> 4</td><td> 49</td><td>144</td></tr>\n",
       "\t<tr><td> 9</td><td> 64</td><td>  1</td></tr>\n",
       "\t<tr><td>16</td><td> 81</td><td>  4</td></tr>\n",
       "\t<tr><td>25</td><td>100</td><td>  9</td></tr>\n",
       "</tbody>\n",
       "</table>\n"
      ],
      "text/latex": [
       "A matrix: 5 × 3 of type dbl\n",
       "\\begin{tabular}{lll}\n",
       "\t  1 &  36 & 121\\\\\n",
       "\t  4 &  49 & 144\\\\\n",
       "\t  9 &  64 &   1\\\\\n",
       "\t 16 &  81 &   4\\\\\n",
       "\t 25 & 100 &   9\\\\\n",
       "\\end{tabular}\n"
      ],
      "text/markdown": [
       "\n",
       "A matrix: 5 × 3 of type dbl\n",
       "\n",
       "|  1 |  36 | 121 |\n",
       "|  4 |  49 | 144 |\n",
       "|  9 |  64 |   1 |\n",
       "| 16 |  81 |   4 |\n",
       "| 25 | 100 |   9 |\n",
       "\n"
      ],
      "text/plain": [
       "     [,1] [,2] [,3]\n",
       "[1,]  1    36  121 \n",
       "[2,]  4    49  144 \n",
       "[3,]  9    64    1 \n",
       "[4,] 16    81    4 \n",
       "[5,] 25   100    9 "
      ]
     },
     "metadata": {},
     "output_type": "display_data"
    }
   ],
   "source": [
    "apply(M, MARGIN = c(1,2), FUN = function(x){x^2})"
   ]
  },
  {
   "cell_type": "code",
   "execution_count": 33,
   "metadata": {},
   "outputs": [
    {
     "data": {
      "text/html": [
       "<table>\n",
       "<caption>A matrix: 5 × 3 of type int</caption>\n",
       "<tbody>\n",
       "\t<tr><td>1</td><td> 6</td><td>11</td></tr>\n",
       "\t<tr><td>2</td><td> 7</td><td>12</td></tr>\n",
       "\t<tr><td>3</td><td> 8</td><td> 1</td></tr>\n",
       "\t<tr><td>4</td><td> 9</td><td> 2</td></tr>\n",
       "\t<tr><td>5</td><td>10</td><td> 3</td></tr>\n",
       "</tbody>\n",
       "</table>\n"
      ],
      "text/latex": [
       "A matrix: 5 × 3 of type int\n",
       "\\begin{tabular}{lll}\n",
       "\t 1 &  6 & 11\\\\\n",
       "\t 2 &  7 & 12\\\\\n",
       "\t 3 &  8 &  1\\\\\n",
       "\t 4 &  9 &  2\\\\\n",
       "\t 5 & 10 &  3\\\\\n",
       "\\end{tabular}\n"
      ],
      "text/markdown": [
       "\n",
       "A matrix: 5 × 3 of type int\n",
       "\n",
       "| 1 |  6 | 11 |\n",
       "| 2 |  7 | 12 |\n",
       "| 3 |  8 |  1 |\n",
       "| 4 |  9 |  2 |\n",
       "| 5 | 10 |  3 |\n",
       "\n"
      ],
      "text/plain": [
       "     [,1] [,2] [,3]\n",
       "[1,] 1     6   11  \n",
       "[2,] 2     7   12  \n",
       "[3,] 3     8    1  \n",
       "[4,] 4     9    2  \n",
       "[5,] 5    10    3  "
      ]
     },
     "metadata": {},
     "output_type": "display_data"
    }
   ],
   "source": [
    "M"
   ]
  },
  {
   "cell_type": "code",
   "execution_count": 34,
   "metadata": {},
   "outputs": [
    {
     "data": {
      "text/html": [
       "<table>\n",
       "<caption>A matrix: 3 × 5 of type int</caption>\n",
       "<tbody>\n",
       "\t<tr><td> 1</td><td> 2</td><td>3</td><td>4</td><td> 5</td></tr>\n",
       "\t<tr><td> 6</td><td> 7</td><td>8</td><td>9</td><td>10</td></tr>\n",
       "\t<tr><td>11</td><td>12</td><td>1</td><td>2</td><td> 3</td></tr>\n",
       "</tbody>\n",
       "</table>\n"
      ],
      "text/latex": [
       "A matrix: 3 × 5 of type int\n",
       "\\begin{tabular}{lllll}\n",
       "\t  1 &  2 & 3 & 4 &  5\\\\\n",
       "\t  6 &  7 & 8 & 9 & 10\\\\\n",
       "\t 11 & 12 & 1 & 2 &  3\\\\\n",
       "\\end{tabular}\n"
      ],
      "text/markdown": [
       "\n",
       "A matrix: 3 × 5 of type int\n",
       "\n",
       "|  1 |  2 | 3 | 4 |  5 |\n",
       "|  6 |  7 | 8 | 9 | 10 |\n",
       "| 11 | 12 | 1 | 2 |  3 |\n",
       "\n"
      ],
      "text/plain": [
       "     [,1] [,2] [,3] [,4] [,5]\n",
       "[1,]  1    2   3    4     5  \n",
       "[2,]  6    7   8    9    10  \n",
       "[3,] 11   12   1    2     3  "
      ]
     },
     "metadata": {},
     "output_type": "display_data"
    }
   ],
   "source": [
    "t(M)"
   ]
  },
  {
   "cell_type": "code",
   "execution_count": 35,
   "metadata": {},
   "outputs": [
    {
     "data": {
      "text/html": [
       "<table>\n",
       "<caption>A matrix: 5 × 5 of type dbl</caption>\n",
       "<tbody>\n",
       "\t<tr><td>158</td><td>176</td><td>62</td><td> 80</td><td> 98</td></tr>\n",
       "\t<tr><td>176</td><td>197</td><td>74</td><td> 95</td><td>116</td></tr>\n",
       "\t<tr><td> 62</td><td> 74</td><td>74</td><td> 86</td><td> 98</td></tr>\n",
       "\t<tr><td> 80</td><td> 95</td><td>86</td><td>101</td><td>116</td></tr>\n",
       "\t<tr><td> 98</td><td>116</td><td>98</td><td>116</td><td>134</td></tr>\n",
       "</tbody>\n",
       "</table>\n"
      ],
      "text/latex": [
       "A matrix: 5 × 5 of type dbl\n",
       "\\begin{tabular}{lllll}\n",
       "\t 158 & 176 & 62 &  80 &  98\\\\\n",
       "\t 176 & 197 & 74 &  95 & 116\\\\\n",
       "\t  62 &  74 & 74 &  86 &  98\\\\\n",
       "\t  80 &  95 & 86 & 101 & 116\\\\\n",
       "\t  98 & 116 & 98 & 116 & 134\\\\\n",
       "\\end{tabular}\n"
      ],
      "text/markdown": [
       "\n",
       "A matrix: 5 × 5 of type dbl\n",
       "\n",
       "| 158 | 176 | 62 |  80 |  98 |\n",
       "| 176 | 197 | 74 |  95 | 116 |\n",
       "|  62 |  74 | 74 |  86 |  98 |\n",
       "|  80 |  95 | 86 | 101 | 116 |\n",
       "|  98 | 116 | 98 | 116 | 134 |\n",
       "\n"
      ],
      "text/plain": [
       "     [,1] [,2] [,3] [,4] [,5]\n",
       "[1,] 158  176  62    80   98 \n",
       "[2,] 176  197  74    95  116 \n",
       "[3,]  62   74  74    86   98 \n",
       "[4,]  80   95  86   101  116 \n",
       "[5,]  98  116  98   116  134 "
      ]
     },
     "metadata": {},
     "output_type": "display_data"
    }
   ],
   "source": [
    "M %*% t(M)"
   ]
  },
  {
   "cell_type": "code",
   "execution_count": 36,
   "metadata": {},
   "outputs": [
    {
     "data": {
      "text/html": [
       "<table>\n",
       "<caption>A matrix: 5 × 3 of type dbl</caption>\n",
       "<tbody>\n",
       "\t<tr><td> 3</td><td>18</td><td>33</td></tr>\n",
       "\t<tr><td> 6</td><td>21</td><td>36</td></tr>\n",
       "\t<tr><td> 9</td><td>24</td><td> 3</td></tr>\n",
       "\t<tr><td>12</td><td>27</td><td> 6</td></tr>\n",
       "\t<tr><td>15</td><td>30</td><td> 9</td></tr>\n",
       "</tbody>\n",
       "</table>\n"
      ],
      "text/latex": [
       "A matrix: 5 × 3 of type dbl\n",
       "\\begin{tabular}{lll}\n",
       "\t  3 & 18 & 33\\\\\n",
       "\t  6 & 21 & 36\\\\\n",
       "\t  9 & 24 &  3\\\\\n",
       "\t 12 & 27 &  6\\\\\n",
       "\t 15 & 30 &  9\\\\\n",
       "\\end{tabular}\n"
      ],
      "text/markdown": [
       "\n",
       "A matrix: 5 × 3 of type dbl\n",
       "\n",
       "|  3 | 18 | 33 |\n",
       "|  6 | 21 | 36 |\n",
       "|  9 | 24 |  3 |\n",
       "| 12 | 27 |  6 |\n",
       "| 15 | 30 |  9 |\n",
       "\n"
      ],
      "text/plain": [
       "     [,1] [,2] [,3]\n",
       "[1,]  3   18   33  \n",
       "[2,]  6   21   36  \n",
       "[3,]  9   24    3  \n",
       "[4,] 12   27    6  \n",
       "[5,] 15   30    9  "
      ]
     },
     "metadata": {},
     "output_type": "display_data"
    }
   ],
   "source": [
    "3 * M"
   ]
  },
  {
   "cell_type": "code",
   "execution_count": 37,
   "metadata": {},
   "outputs": [
    {
     "data": {
      "text/html": [
       "<table>\n",
       "<caption>A matrix: 5 × 3 of type dbl</caption>\n",
       "<tbody>\n",
       "\t<tr><td> 4</td><td>24</td><td>44</td></tr>\n",
       "\t<tr><td> 8</td><td>28</td><td>48</td></tr>\n",
       "\t<tr><td>12</td><td>32</td><td> 4</td></tr>\n",
       "\t<tr><td>16</td><td>36</td><td> 8</td></tr>\n",
       "\t<tr><td>20</td><td>40</td><td>12</td></tr>\n",
       "</tbody>\n",
       "</table>\n"
      ],
      "text/latex": [
       "A matrix: 5 × 3 of type dbl\n",
       "\\begin{tabular}{lll}\n",
       "\t  4 & 24 & 44\\\\\n",
       "\t  8 & 28 & 48\\\\\n",
       "\t 12 & 32 &  4\\\\\n",
       "\t 16 & 36 &  8\\\\\n",
       "\t 20 & 40 & 12\\\\\n",
       "\\end{tabular}\n"
      ],
      "text/markdown": [
       "\n",
       "A matrix: 5 × 3 of type dbl\n",
       "\n",
       "|  4 | 24 | 44 |\n",
       "|  8 | 28 | 48 |\n",
       "| 12 | 32 |  4 |\n",
       "| 16 | 36 |  8 |\n",
       "| 20 | 40 | 12 |\n",
       "\n"
      ],
      "text/plain": [
       "     [,1] [,2] [,3]\n",
       "[1,]  4   24   44  \n",
       "[2,]  8   28   48  \n",
       "[3,] 12   32    4  \n",
       "[4,] 16   36    8  \n",
       "[5,] 20   40   12  "
      ]
     },
     "metadata": {},
     "output_type": "display_data"
    }
   ],
   "source": [
    "M + (3*M)"
   ]
  },
  {
   "cell_type": "code",
   "execution_count": 38,
   "metadata": {},
   "outputs": [
    {
     "ename": "ERROR",
     "evalue": "Error in library(Biodem): there is no package called ‘Biodem’\n",
     "output_type": "error",
     "traceback": [
      "Error in library(Biodem): there is no package called ‘Biodem’\nTraceback:\n",
      "1. library(Biodem)"
     ]
    }
   ],
   "source": [
    "library(Biodem)"
   ]
  },
  {
   "cell_type": "code",
   "execution_count": 39,
   "metadata": {},
   "outputs": [
    {
     "name": "stderr",
     "output_type": "stream",
     "text": [
      "Updating HTML index of packages in '.Library'\n",
      "\n",
      "Making 'packages.html' ...\n",
      " done\n",
      "\n"
     ]
    }
   ],
   "source": [
    "install.packages(\"Biodem\")"
   ]
  },
  {
   "cell_type": "code",
   "execution_count": 40,
   "metadata": {},
   "outputs": [],
   "source": [
    "library(Biodem)"
   ]
  },
  {
   "cell_type": "code",
   "execution_count": 41,
   "metadata": {},
   "outputs": [
    {
     "ename": "ERROR",
     "evalue": "Error in pot %*% pot: non-conformable arguments\n",
     "output_type": "error",
     "traceback": [
      "Error in pot %*% pot: non-conformable arguments\nTraceback:\n",
      "1. mtx.exp(M, 2)"
     ]
    }
   ],
   "source": [
    "mtx.exp(M,2)"
   ]
  },
  {
   "cell_type": "code",
   "execution_count": 42,
   "metadata": {},
   "outputs": [
    {
     "ename": "ERROR",
     "evalue": "Error in library(expm): there is no package called ‘expm’\n",
     "output_type": "error",
     "traceback": [
      "Error in library(expm): there is no package called ‘expm’\nTraceback:\n",
      "1. library(expm)"
     ]
    }
   ],
   "source": [
    "library(expm)"
   ]
  },
  {
   "cell_type": "code",
   "execution_count": 43,
   "metadata": {},
   "outputs": [
    {
     "name": "stderr",
     "output_type": "stream",
     "text": [
      "Updating HTML index of packages in '.Library'\n",
      "\n",
      "Making 'packages.html' ...\n",
      " done\n",
      "\n"
     ]
    }
   ],
   "source": [
    "install.packages(\"expm\")"
   ]
  },
  {
   "cell_type": "code",
   "execution_count": 44,
   "metadata": {},
   "outputs": [
    {
     "data": {
      "text/html": [
       "<table>\n",
       "<caption>A matrix: 5 × 3 of type dbl</caption>\n",
       "<tbody>\n",
       "\t<tr><td>1</td><td>0</td><td>1</td></tr>\n",
       "\t<tr><td>0</td><td>1</td><td>0</td></tr>\n",
       "\t<tr><td>1</td><td>0</td><td>1</td></tr>\n",
       "\t<tr><td>0</td><td>1</td><td>0</td></tr>\n",
       "\t<tr><td>1</td><td>0</td><td>1</td></tr>\n",
       "</tbody>\n",
       "</table>\n"
      ],
      "text/latex": [
       "A matrix: 5 × 3 of type dbl\n",
       "\\begin{tabular}{lll}\n",
       "\t 1 & 0 & 1\\\\\n",
       "\t 0 & 1 & 0\\\\\n",
       "\t 1 & 0 & 1\\\\\n",
       "\t 0 & 1 & 0\\\\\n",
       "\t 1 & 0 & 1\\\\\n",
       "\\end{tabular}\n"
      ],
      "text/markdown": [
       "\n",
       "A matrix: 5 × 3 of type dbl\n",
       "\n",
       "| 1 | 0 | 1 |\n",
       "| 0 | 1 | 0 |\n",
       "| 1 | 0 | 1 |\n",
       "| 0 | 1 | 0 |\n",
       "| 1 | 0 | 1 |\n",
       "\n"
      ],
      "text/plain": [
       "     [,1] [,2] [,3]\n",
       "[1,] 1    0    1   \n",
       "[2,] 0    1    0   \n",
       "[3,] 1    0    1   \n",
       "[4,] 0    1    0   \n",
       "[5,] 1    0    1   "
      ]
     },
     "metadata": {},
     "output_type": "display_data"
    }
   ],
   "source": [
    "M%%2"
   ]
  },
  {
   "cell_type": "code",
   "execution_count": 48,
   "metadata": {},
   "outputs": [],
   "source": [
    "A = matrix(c(2,0,2,1,2,3,0,1,3), nrow = 3, byrow = T)\n",
    "B = matrix(c(3,2,1,1,0,0,1,1,1), nrow = 3, byrow = T)"
   ]
  },
  {
   "cell_type": "code",
   "execution_count": 50,
   "metadata": {},
   "outputs": [
    {
     "data": {
      "text/html": [
       "<table>\n",
       "<caption>A matrix: 3 × 3 of type dbl</caption>\n",
       "<tbody>\n",
       "\t<tr><td>8</td><td>6</td><td>4</td></tr>\n",
       "\t<tr><td>8</td><td>5</td><td>4</td></tr>\n",
       "\t<tr><td>4</td><td>3</td><td>3</td></tr>\n",
       "</tbody>\n",
       "</table>\n"
      ],
      "text/latex": [
       "A matrix: 3 × 3 of type dbl\n",
       "\\begin{tabular}{lll}\n",
       "\t 8 & 6 & 4\\\\\n",
       "\t 8 & 5 & 4\\\\\n",
       "\t 4 & 3 & 3\\\\\n",
       "\\end{tabular}\n"
      ],
      "text/markdown": [
       "\n",
       "A matrix: 3 × 3 of type dbl\n",
       "\n",
       "| 8 | 6 | 4 |\n",
       "| 8 | 5 | 4 |\n",
       "| 4 | 3 | 3 |\n",
       "\n"
      ],
      "text/plain": [
       "     [,1] [,2] [,3]\n",
       "[1,] 8    6    4   \n",
       "[2,] 8    5    4   \n",
       "[3,] 4    3    3   "
      ]
     },
     "metadata": {},
     "output_type": "display_data"
    }
   ],
   "source": [
    "A %*% B"
   ]
  },
  {
   "cell_type": "code",
   "execution_count": 52,
   "metadata": {},
   "outputs": [
    {
     "data": {
      "text/html": [
       "<table>\n",
       "<caption>A matrix: 3 × 3 of type dbl</caption>\n",
       "<tbody>\n",
       "\t<tr><td>4</td><td>2</td><td>10</td></tr>\n",
       "\t<tr><td>4</td><td>7</td><td>17</td></tr>\n",
       "\t<tr><td>1</td><td>5</td><td>12</td></tr>\n",
       "</tbody>\n",
       "</table>\n"
      ],
      "text/latex": [
       "A matrix: 3 × 3 of type dbl\n",
       "\\begin{tabular}{lll}\n",
       "\t 4 & 2 & 10\\\\\n",
       "\t 4 & 7 & 17\\\\\n",
       "\t 1 & 5 & 12\\\\\n",
       "\\end{tabular}\n"
      ],
      "text/markdown": [
       "\n",
       "A matrix: 3 × 3 of type dbl\n",
       "\n",
       "| 4 | 2 | 10 |\n",
       "| 4 | 7 | 17 |\n",
       "| 1 | 5 | 12 |\n",
       "\n"
      ],
      "text/plain": [
       "     [,1] [,2] [,3]\n",
       "[1,] 4    2    10  \n",
       "[2,] 4    7    17  \n",
       "[3,] 1    5    12  "
      ]
     },
     "metadata": {},
     "output_type": "display_data"
    }
   ],
   "source": [
    "mtx.exp(A,2)"
   ]
  },
  {
   "cell_type": "code",
   "execution_count": 53,
   "metadata": {},
   "outputs": [
    {
     "data": {
      "text/html": [
       "<table>\n",
       "<caption>A matrix: 3 × 3 of type dbl</caption>\n",
       "<tbody>\n",
       "\t<tr><td>47</td><td>28</td><td>16</td></tr>\n",
       "\t<tr><td>12</td><td> 7</td><td> 4</td></tr>\n",
       "\t<tr><td>20</td><td>12</td><td> 7</td></tr>\n",
       "</tbody>\n",
       "</table>\n"
      ],
      "text/latex": [
       "A matrix: 3 × 3 of type dbl\n",
       "\\begin{tabular}{lll}\n",
       "\t 47 & 28 & 16\\\\\n",
       "\t 12 &  7 &  4\\\\\n",
       "\t 20 & 12 &  7\\\\\n",
       "\\end{tabular}\n"
      ],
      "text/markdown": [
       "\n",
       "A matrix: 3 × 3 of type dbl\n",
       "\n",
       "| 47 | 28 | 16 |\n",
       "| 12 |  7 |  4 |\n",
       "| 20 | 12 |  7 |\n",
       "\n"
      ],
      "text/plain": [
       "     [,1] [,2] [,3]\n",
       "[1,] 47   28   16  \n",
       "[2,] 12    7    4  \n",
       "[3,] 20   12    7  "
      ]
     },
     "metadata": {},
     "output_type": "display_data"
    }
   ],
   "source": [
    "mtx.exp(B,3)"
   ]
  },
  {
   "cell_type": "code",
   "execution_count": 54,
   "metadata": {},
   "outputs": [
    {
     "data": {
      "text/html": [
       "<table>\n",
       "<caption>A matrix: 3 × 3 of type dbl</caption>\n",
       "<tbody>\n",
       "\t<tr><td>4</td><td>2</td><td>10</td></tr>\n",
       "\t<tr><td>4</td><td>7</td><td>17</td></tr>\n",
       "\t<tr><td>1</td><td>5</td><td>12</td></tr>\n",
       "</tbody>\n",
       "</table>\n"
      ],
      "text/latex": [
       "A matrix: 3 × 3 of type dbl\n",
       "\\begin{tabular}{lll}\n",
       "\t 4 & 2 & 10\\\\\n",
       "\t 4 & 7 & 17\\\\\n",
       "\t 1 & 5 & 12\\\\\n",
       "\\end{tabular}\n"
      ],
      "text/markdown": [
       "\n",
       "A matrix: 3 × 3 of type dbl\n",
       "\n",
       "| 4 | 2 | 10 |\n",
       "| 4 | 7 | 17 |\n",
       "| 1 | 5 | 12 |\n",
       "\n"
      ],
      "text/plain": [
       "     [,1] [,2] [,3]\n",
       "[1,] 4    2    10  \n",
       "[2,] 4    7    17  \n",
       "[3,] 1    5    12  "
      ]
     },
     "metadata": {},
     "output_type": "display_data"
    }
   ],
   "source": [
    "A %*% A"
   ]
  },
  {
   "cell_type": "code",
   "execution_count": 55,
   "metadata": {},
   "outputs": [
    {
     "data": {
      "text/html": [
       "<table>\n",
       "<caption>A matrix: 3 × 3 of type dbl</caption>\n",
       "<tbody>\n",
       "\t<tr><td>8</td><td>5</td><td>15</td></tr>\n",
       "\t<tr><td>2</td><td>0</td><td> 2</td></tr>\n",
       "\t<tr><td>3</td><td>3</td><td> 8</td></tr>\n",
       "</tbody>\n",
       "</table>\n"
      ],
      "text/latex": [
       "A matrix: 3 × 3 of type dbl\n",
       "\\begin{tabular}{lll}\n",
       "\t 8 & 5 & 15\\\\\n",
       "\t 2 & 0 &  2\\\\\n",
       "\t 3 & 3 &  8\\\\\n",
       "\\end{tabular}\n"
      ],
      "text/markdown": [
       "\n",
       "A matrix: 3 × 3 of type dbl\n",
       "\n",
       "| 8 | 5 | 15 |\n",
       "| 2 | 0 |  2 |\n",
       "| 3 | 3 |  8 |\n",
       "\n"
      ],
      "text/plain": [
       "     [,1] [,2] [,3]\n",
       "[1,] 8    5    15  \n",
       "[2,] 2    0     2  \n",
       "[3,] 3    3     8  "
      ]
     },
     "metadata": {},
     "output_type": "display_data"
    }
   ],
   "source": [
    "B %*% A"
   ]
  },
  {
   "cell_type": "code",
   "execution_count": 56,
   "metadata": {},
   "outputs": [
    {
     "data": {
      "text/html": [
       "8"
      ],
      "text/latex": [
       "8"
      ],
      "text/markdown": [
       "8"
      ],
      "text/plain": [
       "[1] 8"
      ]
     },
     "metadata": {},
     "output_type": "display_data"
    }
   ],
   "source": [
    "det(A) # Determinante"
   ]
  },
  {
   "cell_type": "code",
   "execution_count": 58,
   "metadata": {},
   "outputs": [
    {
     "data": {
      "text/html": [
       "3"
      ],
      "text/latex": [
       "3"
      ],
      "text/markdown": [
       "3"
      ],
      "text/plain": [
       "[1] 3"
      ]
     },
     "metadata": {},
     "output_type": "display_data"
    }
   ],
   "source": [
    "qr(M)$rank # Rango"
   ]
  },
  {
   "cell_type": "code",
   "execution_count": 59,
   "metadata": {},
   "outputs": [
    {
     "data": {
      "text/html": [
       "<table>\n",
       "<caption>A matrix: 3 × 3 of type dbl</caption>\n",
       "<tbody>\n",
       "\t<tr><td> 0.375</td><td> 0.25</td><td>-0.5</td></tr>\n",
       "\t<tr><td>-0.375</td><td> 0.75</td><td>-0.5</td></tr>\n",
       "\t<tr><td> 0.125</td><td>-0.25</td><td> 0.5</td></tr>\n",
       "</tbody>\n",
       "</table>\n"
      ],
      "text/latex": [
       "A matrix: 3 × 3 of type dbl\n",
       "\\begin{tabular}{lll}\n",
       "\t  0.375 &  0.25 & -0.5\\\\\n",
       "\t -0.375 &  0.75 & -0.5\\\\\n",
       "\t  0.125 & -0.25 &  0.5\\\\\n",
       "\\end{tabular}\n"
      ],
      "text/markdown": [
       "\n",
       "A matrix: 3 × 3 of type dbl\n",
       "\n",
       "|  0.375 |  0.25 | -0.5 |\n",
       "| -0.375 |  0.75 | -0.5 |\n",
       "|  0.125 | -0.25 |  0.5 |\n",
       "\n"
      ],
      "text/plain": [
       "     [,1]   [,2]  [,3]\n",
       "[1,]  0.375  0.25 -0.5\n",
       "[2,] -0.375  0.75 -0.5\n",
       "[3,]  0.125 -0.25  0.5"
      ]
     },
     "metadata": {},
     "output_type": "display_data"
    }
   ],
   "source": [
    "solve(A) # Inversa"
   ]
  },
  {
   "cell_type": "code",
   "execution_count": 60,
   "metadata": {},
   "outputs": [
    {
     "data": {
      "text/html": [
       "<table>\n",
       "<caption>A matrix: 3 × 3 of type dbl</caption>\n",
       "<tbody>\n",
       "\t<tr><td>1</td><td>0</td><td>0</td></tr>\n",
       "\t<tr><td>0</td><td>1</td><td>0</td></tr>\n",
       "\t<tr><td>0</td><td>0</td><td>1</td></tr>\n",
       "</tbody>\n",
       "</table>\n"
      ],
      "text/latex": [
       "A matrix: 3 × 3 of type dbl\n",
       "\\begin{tabular}{lll}\n",
       "\t 1 & 0 & 0\\\\\n",
       "\t 0 & 1 & 0\\\\\n",
       "\t 0 & 0 & 1\\\\\n",
       "\\end{tabular}\n"
      ],
      "text/markdown": [
       "\n",
       "A matrix: 3 × 3 of type dbl\n",
       "\n",
       "| 1 | 0 | 0 |\n",
       "| 0 | 1 | 0 |\n",
       "| 0 | 0 | 1 |\n",
       "\n"
      ],
      "text/plain": [
       "     [,1] [,2] [,3]\n",
       "[1,] 1    0    0   \n",
       "[2,] 0    1    0   \n",
       "[3,] 0    0    1   "
      ]
     },
     "metadata": {},
     "output_type": "display_data"
    }
   ],
   "source": [
    "solve(A) %*% A"
   ]
  },
  {
   "cell_type": "code",
   "execution_count": 61,
   "metadata": {},
   "outputs": [
    {
     "data": {
      "text/html": [
       "<style>\n",
       ".list-inline {list-style: none; margin:0; padding: 0}\n",
       ".list-inline>li {display: inline-block}\n",
       ".list-inline>li:not(:last-child)::after {content: \"\\00b7\"; padding: 0 .5ex}\n",
       "</style>\n",
       "<ol class=list-inline><li>-0.625</li><li>-0.375</li><li>1.125</li></ol>\n"
      ],
      "text/latex": [
       "\\begin{enumerate*}\n",
       "\\item -0.625\n",
       "\\item -0.375\n",
       "\\item 1.125\n",
       "\\end{enumerate*}\n"
      ],
      "text/markdown": [
       "1. -0.625\n",
       "2. -0.375\n",
       "3. 1.125\n",
       "\n",
       "\n"
      ],
      "text/plain": [
       "[1] -0.625 -0.375  1.125"
      ]
     },
     "metadata": {},
     "output_type": "display_data"
    }
   ],
   "source": [
    "solve(A, c(1,2,3)) # Resuelve sistema de ecuaciones liineales con vector de valores independientes"
   ]
  },
  {
   "cell_type": "code",
   "execution_count": 62,
   "metadata": {},
   "outputs": [
    {
     "data": {
      "text/plain": [
       "eigen() decomposition\n",
       "$values\n",
       "[1] 4.511547+0.000000i 1.244226+0.474477i 1.244226-0.474477i\n",
       "\n",
       "$vectors\n",
       "             [,1]                  [,2]                  [,3]\n",
       "[1,] 0.4022596+0i  0.7337066+0.0000000i  0.7337066+0.0000000i\n",
       "[2,] 0.7635534+0i  0.4042133-0.4371684i  0.4042133+0.4371684i\n",
       "[3,] 0.5051469+0i -0.2772580+0.1740634i -0.2772580-0.1740634i\n"
      ]
     },
     "metadata": {},
     "output_type": "display_data"
    }
   ],
   "source": [
    "eigen(A) # Valores propios"
   ]
  },
  {
   "cell_type": "code",
   "execution_count": 63,
   "metadata": {},
   "outputs": [
    {
     "data": {
      "text/html": [
       "<style>\n",
       ".list-inline {list-style: none; margin:0; padding: 0}\n",
       ".list-inline>li {display: inline-block}\n",
       ".list-inline>li:not(:last-child)::after {content: \"\\00b7\"; padding: 0 .5ex}\n",
       "</style>\n",
       "<ol class=list-inline><li>4.51154714169453+0i</li><li>1.24422642915273+0.47447677800733i</li><li>1.24422642915273-0.47447677800733i</li></ol>\n"
      ],
      "text/latex": [
       "\\begin{enumerate*}\n",
       "\\item 4.51154714169453+0i\n",
       "\\item 1.24422642915273+0.47447677800733i\n",
       "\\item 1.24422642915273-0.47447677800733i\n",
       "\\end{enumerate*}\n"
      ],
      "text/markdown": [
       "1. 4.51154714169453+0i\n",
       "2. 1.24422642915273+0.47447677800733i\n",
       "3. 1.24422642915273-0.47447677800733i\n",
       "\n",
       "\n"
      ],
      "text/plain": [
       "[1] 4.511547+0.000000i 1.244226+0.474477i 1.244226-0.474477i"
      ]
     },
     "metadata": {},
     "output_type": "display_data"
    }
   ],
   "source": [
    "eigen(A)$values"
   ]
  },
  {
   "cell_type": "code",
   "execution_count": 64,
   "metadata": {
    "scrolled": true
   },
   "outputs": [
    {
     "data": {
      "text/html": [
       "<table>\n",
       "<caption>A matrix: 3 × 3 of type cpl</caption>\n",
       "<tbody>\n",
       "\t<tr><td>0.4022596+0i</td><td> 0.7337066+0.0000000i</td><td> 0.7337066+0.0000000i</td></tr>\n",
       "\t<tr><td>0.7635534+0i</td><td> 0.4042133-0.4371684i</td><td> 0.4042133+0.4371684i</td></tr>\n",
       "\t<tr><td>0.5051469+0i</td><td>-0.2772580+0.1740634i</td><td>-0.2772580-0.1740634i</td></tr>\n",
       "</tbody>\n",
       "</table>\n"
      ],
      "text/latex": [
       "A matrix: 3 × 3 of type cpl\n",
       "\\begin{tabular}{lll}\n",
       "\t 0.4022596+0i &  0.7337066+0.0000000i &  0.7337066+0.0000000i\\\\\n",
       "\t 0.7635534+0i &  0.4042133-0.4371684i &  0.4042133+0.4371684i\\\\\n",
       "\t 0.5051469+0i & -0.2772580+0.1740634i & -0.2772580-0.1740634i\\\\\n",
       "\\end{tabular}\n"
      ],
      "text/markdown": [
       "\n",
       "A matrix: 3 × 3 of type cpl\n",
       "\n",
       "| 0.4022596+0i |  0.7337066+0.0000000i |  0.7337066+0.0000000i |\n",
       "| 0.7635534+0i |  0.4042133-0.4371684i |  0.4042133+0.4371684i |\n",
       "| 0.5051469+0i | -0.2772580+0.1740634i | -0.2772580-0.1740634i |\n",
       "\n"
      ],
      "text/plain": [
       "     [,1]         [,2]                  [,3]                 \n",
       "[1,] 0.4022596+0i  0.7337066+0.0000000i  0.7337066+0.0000000i\n",
       "[2,] 0.7635534+0i  0.4042133-0.4371684i  0.4042133+0.4371684i\n",
       "[3,] 0.5051469+0i -0.2772580+0.1740634i -0.2772580-0.1740634i"
      ]
     },
     "metadata": {},
     "output_type": "display_data"
    }
   ],
   "source": [
    "eigen(A)$vectors"
   ]
  },
  {
   "cell_type": "code",
   "execution_count": 74,
   "metadata": {},
   "outputs": [
    {
     "data": {
      "text/plain": [
       "eigen() decomposition\n",
       "$values\n",
       "[1] 4 3 2\n",
       "\n",
       "$vectors\n",
       "          [,1]       [,2] [,3]\n",
       "[1,] 0.2672612 -0.8164966    1\n",
       "[2,] 0.8017837  0.4082483    0\n",
       "[3,] 0.5345225  0.4082483    0\n"
      ]
     },
     "metadata": {},
     "output_type": "display_data"
    }
   ],
   "source": [
    "M = rbind(c(2,6,-8), c(0,6,-3), c(0,2,1))\n",
    "eigen(M)"
   ]
  },
  {
   "cell_type": "code",
   "execution_count": 75,
   "metadata": {},
   "outputs": [
    {
     "data": {
      "text/html": [
       "<style>\n",
       ".list-inline {list-style: none; margin:0; padding: 0}\n",
       ".list-inline>li {display: inline-block}\n",
       ".list-inline>li:not(:last-child)::after {content: \"\\00b7\"; padding: 0 .5ex}\n",
       "</style>\n",
       "<ol class=list-inline><li>4</li><li>3</li><li>2</li></ol>\n"
      ],
      "text/latex": [
       "\\begin{enumerate*}\n",
       "\\item 4\n",
       "\\item 3\n",
       "\\item 2\n",
       "\\end{enumerate*}\n"
      ],
      "text/markdown": [
       "1. 4\n",
       "2. 3\n",
       "3. 2\n",
       "\n",
       "\n"
      ],
      "text/plain": [
       "[1] 4 3 2"
      ]
     },
     "metadata": {},
     "output_type": "display_data"
    }
   ],
   "source": [
    "eigen(M)$values"
   ]
  },
  {
   "cell_type": "code",
   "execution_count": 76,
   "metadata": {},
   "outputs": [
    {
     "data": {
      "text/html": [
       "<table>\n",
       "<caption>A matrix: 3 × 3 of type dbl</caption>\n",
       "<tbody>\n",
       "\t<tr><td>0.2672612</td><td>-0.8164966</td><td>1</td></tr>\n",
       "\t<tr><td>0.8017837</td><td> 0.4082483</td><td>0</td></tr>\n",
       "\t<tr><td>0.5345225</td><td> 0.4082483</td><td>0</td></tr>\n",
       "</tbody>\n",
       "</table>\n"
      ],
      "text/latex": [
       "A matrix: 3 × 3 of type dbl\n",
       "\\begin{tabular}{lll}\n",
       "\t 0.2672612 & -0.8164966 & 1\\\\\n",
       "\t 0.8017837 &  0.4082483 & 0\\\\\n",
       "\t 0.5345225 &  0.4082483 & 0\\\\\n",
       "\\end{tabular}\n"
      ],
      "text/markdown": [
       "\n",
       "A matrix: 3 × 3 of type dbl\n",
       "\n",
       "| 0.2672612 | -0.8164966 | 1 |\n",
       "| 0.8017837 |  0.4082483 | 0 |\n",
       "| 0.5345225 |  0.4082483 | 0 |\n",
       "\n"
      ],
      "text/plain": [
       "     [,1]      [,2]       [,3]\n",
       "[1,] 0.2672612 -0.8164966 1   \n",
       "[2,] 0.8017837  0.4082483 0   \n",
       "[3,] 0.5345225  0.4082483 0   "
      ]
     },
     "metadata": {},
     "output_type": "display_data"
    }
   ],
   "source": [
    "eigen(M)$vectors"
   ]
  },
  {
   "cell_type": "code",
   "execution_count": 77,
   "metadata": {},
   "outputs": [],
   "source": [
    "D = diag(eigen(M)$values)\n",
    "P = eigen(M)$vectors"
   ]
  },
  {
   "cell_type": "code",
   "execution_count": 79,
   "metadata": {},
   "outputs": [
    {
     "data": {
      "text/html": [
       "<table>\n",
       "<caption>A matrix: 3 × 3 of type dbl</caption>\n",
       "<tbody>\n",
       "\t<tr><td>4</td><td>0</td><td>0</td></tr>\n",
       "\t<tr><td>0</td><td>3</td><td>0</td></tr>\n",
       "\t<tr><td>0</td><td>0</td><td>2</td></tr>\n",
       "</tbody>\n",
       "</table>\n"
      ],
      "text/latex": [
       "A matrix: 3 × 3 of type dbl\n",
       "\\begin{tabular}{lll}\n",
       "\t 4 & 0 & 0\\\\\n",
       "\t 0 & 3 & 0\\\\\n",
       "\t 0 & 0 & 2\\\\\n",
       "\\end{tabular}\n"
      ],
      "text/markdown": [
       "\n",
       "A matrix: 3 × 3 of type dbl\n",
       "\n",
       "| 4 | 0 | 0 |\n",
       "| 0 | 3 | 0 |\n",
       "| 0 | 0 | 2 |\n",
       "\n"
      ],
      "text/plain": [
       "     [,1] [,2] [,3]\n",
       "[1,] 4    0    0   \n",
       "[2,] 0    3    0   \n",
       "[3,] 0    0    2   "
      ]
     },
     "metadata": {},
     "output_type": "display_data"
    }
   ],
   "source": [
    "D"
   ]
  },
  {
   "cell_type": "code",
   "execution_count": 80,
   "metadata": {},
   "outputs": [
    {
     "data": {
      "text/html": [
       "<table>\n",
       "<caption>A matrix: 3 × 3 of type dbl</caption>\n",
       "<tbody>\n",
       "\t<tr><td>0.2672612</td><td>-0.8164966</td><td>1</td></tr>\n",
       "\t<tr><td>0.8017837</td><td> 0.4082483</td><td>0</td></tr>\n",
       "\t<tr><td>0.5345225</td><td> 0.4082483</td><td>0</td></tr>\n",
       "</tbody>\n",
       "</table>\n"
      ],
      "text/latex": [
       "A matrix: 3 × 3 of type dbl\n",
       "\\begin{tabular}{lll}\n",
       "\t 0.2672612 & -0.8164966 & 1\\\\\n",
       "\t 0.8017837 &  0.4082483 & 0\\\\\n",
       "\t 0.5345225 &  0.4082483 & 0\\\\\n",
       "\\end{tabular}\n"
      ],
      "text/markdown": [
       "\n",
       "A matrix: 3 × 3 of type dbl\n",
       "\n",
       "| 0.2672612 | -0.8164966 | 1 |\n",
       "| 0.8017837 |  0.4082483 | 0 |\n",
       "| 0.5345225 |  0.4082483 | 0 |\n",
       "\n"
      ],
      "text/plain": [
       "     [,1]      [,2]       [,3]\n",
       "[1,] 0.2672612 -0.8164966 1   \n",
       "[2,] 0.8017837  0.4082483 0   \n",
       "[3,] 0.5345225  0.4082483 0   "
      ]
     },
     "metadata": {},
     "output_type": "display_data"
    }
   ],
   "source": [
    "P"
   ]
  },
  {
   "cell_type": "markdown",
   "metadata": {},
   "source": [
    "**M = P*D*P^-1**"
   ]
  },
  {
   "cell_type": "code",
   "execution_count": 88,
   "metadata": {},
   "outputs": [
    {
     "data": {
      "text/html": [
       "<table>\n",
       "<caption>A matrix: 3 × 3 of type dbl</caption>\n",
       "<tbody>\n",
       "\t<tr><td>1.069045</td><td>-2.449490</td><td>2</td></tr>\n",
       "\t<tr><td>3.207135</td><td> 1.224745</td><td>0</td></tr>\n",
       "\t<tr><td>2.138090</td><td> 1.224745</td><td>0</td></tr>\n",
       "</tbody>\n",
       "</table>\n"
      ],
      "text/latex": [
       "A matrix: 3 × 3 of type dbl\n",
       "\\begin{tabular}{lll}\n",
       "\t 1.069045 & -2.449490 & 2\\\\\n",
       "\t 3.207135 &  1.224745 & 0\\\\\n",
       "\t 2.138090 &  1.224745 & 0\\\\\n",
       "\\end{tabular}\n"
      ],
      "text/markdown": [
       "\n",
       "A matrix: 3 × 3 of type dbl\n",
       "\n",
       "| 1.069045 | -2.449490 | 2 |\n",
       "| 3.207135 |  1.224745 | 0 |\n",
       "| 2.138090 |  1.224745 | 0 |\n",
       "\n"
      ],
      "text/plain": [
       "     [,1]     [,2]      [,3]\n",
       "[1,] 1.069045 -2.449490 2   \n",
       "[2,] 3.207135  1.224745 0   \n",
       "[3,] 2.138090  1.224745 0   "
      ]
     },
     "metadata": {},
     "output_type": "display_data"
    }
   ],
   "source": [
    "P %*% D %*% mtx.exp(P,-1)"
   ]
  },
  {
   "cell_type": "code",
   "execution_count": 81,
   "metadata": {},
   "outputs": [],
   "source": [
    "m1 = P %*% d"
   ]
  },
  {
   "cell_type": "code",
   "execution_count": 82,
   "metadata": {},
   "outputs": [
    {
     "data": {
      "text/html": [
       "<table>\n",
       "<caption>A matrix: 3 × 3 of type dbl</caption>\n",
       "<tbody>\n",
       "\t<tr><td>1.069045</td><td>-2.449490</td><td>2</td></tr>\n",
       "\t<tr><td>3.207135</td><td> 1.224745</td><td>0</td></tr>\n",
       "\t<tr><td>2.138090</td><td> 1.224745</td><td>0</td></tr>\n",
       "</tbody>\n",
       "</table>\n"
      ],
      "text/latex": [
       "A matrix: 3 × 3 of type dbl\n",
       "\\begin{tabular}{lll}\n",
       "\t 1.069045 & -2.449490 & 2\\\\\n",
       "\t 3.207135 &  1.224745 & 0\\\\\n",
       "\t 2.138090 &  1.224745 & 0\\\\\n",
       "\\end{tabular}\n"
      ],
      "text/markdown": [
       "\n",
       "A matrix: 3 × 3 of type dbl\n",
       "\n",
       "| 1.069045 | -2.449490 | 2 |\n",
       "| 3.207135 |  1.224745 | 0 |\n",
       "| 2.138090 |  1.224745 | 0 |\n",
       "\n"
      ],
      "text/plain": [
       "     [,1]     [,2]      [,3]\n",
       "[1,] 1.069045 -2.449490 2   \n",
       "[2,] 3.207135  1.224745 0   \n",
       "[3,] 2.138090  1.224745 0   "
      ]
     },
     "metadata": {},
     "output_type": "display_data"
    }
   ],
   "source": [
    "m1"
   ]
  },
  {
   "cell_type": "code",
   "execution_count": 86,
   "metadata": {},
   "outputs": [
    {
     "data": {
      "text/html": [
       "<table>\n",
       "<caption>A matrix: 3 × 3 of type dbl</caption>\n",
       "<tbody>\n",
       "\t<tr><td>-0.6092018</td><td>-0.05637498</td><td>-0.9309550</td></tr>\n",
       "\t<tr><td>-0.1608766</td><td>-0.11861468</td><td>-0.7928651</td></tr>\n",
       "\t<tr><td>-0.4465909</td><td>-0.24574312</td><td>-0.8619101</td></tr>\n",
       "</tbody>\n",
       "</table>\n"
      ],
      "text/latex": [
       "A matrix: 3 × 3 of type dbl\n",
       "\\begin{tabular}{lll}\n",
       "\t -0.6092018 & -0.05637498 & -0.9309550\\\\\n",
       "\t -0.1608766 & -0.11861468 & -0.7928651\\\\\n",
       "\t -0.4465909 & -0.24574312 & -0.8619101\\\\\n",
       "\\end{tabular}\n"
      ],
      "text/markdown": [
       "\n",
       "A matrix: 3 × 3 of type dbl\n",
       "\n",
       "| -0.6092018 | -0.05637498 | -0.9309550 |\n",
       "| -0.1608766 | -0.11861468 | -0.7928651 |\n",
       "| -0.4465909 | -0.24574312 | -0.8619101 |\n",
       "\n"
      ],
      "text/plain": [
       "     [,1]       [,2]        [,3]      \n",
       "[1,] -0.6092018 -0.05637498 -0.9309550\n",
       "[2,] -0.1608766 -0.11861468 -0.7928651\n",
       "[3,] -0.4465909 -0.24574312 -0.8619101"
      ]
     },
     "metadata": {},
     "output_type": "display_data"
    }
   ],
   "source": [
    "m1 %*% P%%(-1)"
   ]
  },
  {
   "cell_type": "code",
   "execution_count": 87,
   "metadata": {},
   "outputs": [
    {
     "data": {
      "text/html": [
       "<table>\n",
       "<caption>A matrix: 3 × 3 of type dbl</caption>\n",
       "<tbody>\n",
       "\t<tr><td>1.069045</td><td>-2.449490</td><td>2</td></tr>\n",
       "\t<tr><td>3.207135</td><td> 1.224745</td><td>0</td></tr>\n",
       "\t<tr><td>2.138090</td><td> 1.224745</td><td>0</td></tr>\n",
       "</tbody>\n",
       "</table>\n"
      ],
      "text/latex": [
       "A matrix: 3 × 3 of type dbl\n",
       "\\begin{tabular}{lll}\n",
       "\t 1.069045 & -2.449490 & 2\\\\\n",
       "\t 3.207135 &  1.224745 & 0\\\\\n",
       "\t 2.138090 &  1.224745 & 0\\\\\n",
       "\\end{tabular}\n"
      ],
      "text/markdown": [
       "\n",
       "A matrix: 3 × 3 of type dbl\n",
       "\n",
       "| 1.069045 | -2.449490 | 2 |\n",
       "| 3.207135 |  1.224745 | 0 |\n",
       "| 2.138090 |  1.224745 | 0 |\n",
       "\n"
      ],
      "text/plain": [
       "     [,1]     [,2]      [,3]\n",
       "[1,] 1.069045 -2.449490 2   \n",
       "[2,] 3.207135  1.224745 0   \n",
       "[3,] 2.138090  1.224745 0   "
      ]
     },
     "metadata": {},
     "output_type": "display_data"
    }
   ],
   "source": [
    "P %*% mtx.exp(P,-1) %*% d "
   ]
  },
  {
   "cell_type": "code",
   "execution_count": null,
   "metadata": {},
   "outputs": [],
   "source": []
  }
 ],
 "metadata": {
  "kernelspec": {
   "display_name": "R",
   "language": "R",
   "name": "ir"
  },
  "language_info": {
   "codemirror_mode": "r",
   "file_extension": ".r",
   "mimetype": "text/x-r-source",
   "name": "R",
   "pygments_lexer": "r",
   "version": "3.6.3"
  }
 },
 "nbformat": 4,
 "nbformat_minor": 4
}
