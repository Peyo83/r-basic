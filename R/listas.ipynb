{
 "cells": [
  {
   "cell_type": "code",
   "execution_count": 1,
   "metadata": {},
   "outputs": [],
   "source": [
    "x = c(1, 5, -2, 6, -7, 8, -3, 4, -9)"
   ]
  },
  {
   "cell_type": "code",
   "execution_count": 2,
   "metadata": {},
   "outputs": [
    {
     "data": {
      "text/html": [
       "<style>\n",
       ".list-inline {list-style: none; margin:0; padding: 0}\n",
       ".list-inline>li {display: inline-block}\n",
       ".list-inline>li:not(:last-child)::after {content: \"\\00b7\"; padding: 0 .5ex}\n",
       "</style>\n",
       "<ol class=list-inline><li>1</li><li>5</li><li>-2</li><li>6</li><li>-7</li><li>8</li><li>-3</li><li>4</li><li>-9</li></ol>\n"
      ],
      "text/latex": [
       "\\begin{enumerate*}\n",
       "\\item 1\n",
       "\\item 5\n",
       "\\item -2\n",
       "\\item 6\n",
       "\\item -7\n",
       "\\item 8\n",
       "\\item -3\n",
       "\\item 4\n",
       "\\item -9\n",
       "\\end{enumerate*}\n"
      ],
      "text/markdown": [
       "1. 1\n",
       "2. 5\n",
       "3. -2\n",
       "4. 6\n",
       "5. -7\n",
       "6. 8\n",
       "7. -3\n",
       "8. 4\n",
       "9. -9\n",
       "\n",
       "\n"
      ],
      "text/plain": [
       "[1]  1  5 -2  6 -7  8 -3  4 -9"
      ]
     },
     "metadata": {},
     "output_type": "display_data"
    }
   ],
   "source": [
    "x"
   ]
  },
  {
   "cell_type": "code",
   "execution_count": 3,
   "metadata": {},
   "outputs": [],
   "source": [
    "L = list(nombre = 'temperaturas', datos = x, media = mean(x), sumas = cumsum(x))"
   ]
  },
  {
   "cell_type": "code",
   "execution_count": 4,
   "metadata": {},
   "outputs": [
    {
     "data": {
      "text/html": [
       "<dl>\n",
       "\t<dt>$nombre</dt>\n",
       "\t\t<dd>'temperaturas'</dd>\n",
       "\t<dt>$datos</dt>\n",
       "\t\t<dd><style>\n",
       ".list-inline {list-style: none; margin:0; padding: 0}\n",
       ".list-inline>li {display: inline-block}\n",
       ".list-inline>li:not(:last-child)::after {content: \"\\00b7\"; padding: 0 .5ex}\n",
       "</style>\n",
       "<ol class=list-inline><li>1</li><li>5</li><li>-2</li><li>6</li><li>-7</li><li>8</li><li>-3</li><li>4</li><li>-9</li></ol>\n",
       "</dd>\n",
       "\t<dt>$media</dt>\n",
       "\t\t<dd>0.333333333333333</dd>\n",
       "\t<dt>$sumas</dt>\n",
       "\t\t<dd><style>\n",
       ".list-inline {list-style: none; margin:0; padding: 0}\n",
       ".list-inline>li {display: inline-block}\n",
       ".list-inline>li:not(:last-child)::after {content: \"\\00b7\"; padding: 0 .5ex}\n",
       "</style>\n",
       "<ol class=list-inline><li>1</li><li>6</li><li>4</li><li>10</li><li>3</li><li>11</li><li>8</li><li>12</li><li>3</li></ol>\n",
       "</dd>\n",
       "</dl>\n"
      ],
      "text/latex": [
       "\\begin{description}\n",
       "\\item[\\$nombre] 'temperaturas'\n",
       "\\item[\\$datos] \\begin{enumerate*}\n",
       "\\item 1\n",
       "\\item 5\n",
       "\\item -2\n",
       "\\item 6\n",
       "\\item -7\n",
       "\\item 8\n",
       "\\item -3\n",
       "\\item 4\n",
       "\\item -9\n",
       "\\end{enumerate*}\n",
       "\n",
       "\\item[\\$media] 0.333333333333333\n",
       "\\item[\\$sumas] \\begin{enumerate*}\n",
       "\\item 1\n",
       "\\item 6\n",
       "\\item 4\n",
       "\\item 10\n",
       "\\item 3\n",
       "\\item 11\n",
       "\\item 8\n",
       "\\item 12\n",
       "\\item 3\n",
       "\\end{enumerate*}\n",
       "\n",
       "\\end{description}\n"
      ],
      "text/markdown": [
       "$nombre\n",
       ":   'temperaturas'\n",
       "$datos\n",
       ":   1. 1\n",
       "2. 5\n",
       "3. -2\n",
       "4. 6\n",
       "5. -7\n",
       "6. 8\n",
       "7. -3\n",
       "8. 4\n",
       "9. -9\n",
       "\n",
       "\n",
       "\n",
       "$media\n",
       ":   0.333333333333333\n",
       "$sumas\n",
       ":   1. 1\n",
       "2. 6\n",
       "3. 4\n",
       "4. 10\n",
       "5. 3\n",
       "6. 11\n",
       "7. 8\n",
       "8. 12\n",
       "9. 3\n",
       "\n",
       "\n",
       "\n",
       "\n",
       "\n"
      ],
      "text/plain": [
       "$nombre\n",
       "[1] \"temperaturas\"\n",
       "\n",
       "$datos\n",
       "[1]  1  5 -2  6 -7  8 -3  4 -9\n",
       "\n",
       "$media\n",
       "[1] 0.3333333\n",
       "\n",
       "$sumas\n",
       "[1]  1  6  4 10  3 11  8 12  3\n"
      ]
     },
     "metadata": {},
     "output_type": "display_data"
    }
   ],
   "source": [
    "L"
   ]
  },
  {
   "cell_type": "code",
   "execution_count": 5,
   "metadata": {},
   "outputs": [
    {
     "data": {
      "text/html": [
       "0.333333333333333"
      ],
      "text/latex": [
       "0.333333333333333"
      ],
      "text/markdown": [
       "0.333333333333333"
      ],
      "text/plain": [
       "[1] 0.3333333"
      ]
     },
     "metadata": {},
     "output_type": "display_data"
    }
   ],
   "source": [
    "L$media"
   ]
  },
  {
   "cell_type": "code",
   "execution_count": 6,
   "metadata": {},
   "outputs": [
    {
     "data": {
      "text/html": [
       "<style>\n",
       ".list-inline {list-style: none; margin:0; padding: 0}\n",
       ".list-inline>li {display: inline-block}\n",
       ".list-inline>li:not(:last-child)::after {content: \"\\00b7\"; padding: 0 .5ex}\n",
       "</style>\n",
       "<ol class=list-inline><li>1</li><li>5</li><li>-2</li><li>6</li><li>-7</li><li>8</li><li>-3</li><li>4</li><li>-9</li></ol>\n"
      ],
      "text/latex": [
       "\\begin{enumerate*}\n",
       "\\item 1\n",
       "\\item 5\n",
       "\\item -2\n",
       "\\item 6\n",
       "\\item -7\n",
       "\\item 8\n",
       "\\item -3\n",
       "\\item 4\n",
       "\\item -9\n",
       "\\end{enumerate*}\n"
      ],
      "text/markdown": [
       "1. 1\n",
       "2. 5\n",
       "3. -2\n",
       "4. 6\n",
       "5. -7\n",
       "6. 8\n",
       "7. -3\n",
       "8. 4\n",
       "9. -9\n",
       "\n",
       "\n"
      ],
      "text/plain": [
       "[1]  1  5 -2  6 -7  8 -3  4 -9"
      ]
     },
     "metadata": {},
     "output_type": "display_data"
    }
   ],
   "source": [
    "L$datos"
   ]
  },
  {
   "cell_type": "code",
   "execution_count": 7,
   "metadata": {},
   "outputs": [
    {
     "data": {
      "text/html": [
       "<style>\n",
       ".list-inline {list-style: none; margin:0; padding: 0}\n",
       ".list-inline>li {display: inline-block}\n",
       ".list-inline>li:not(:last-child)::after {content: \"\\00b7\"; padding: 0 .5ex}\n",
       "</style>\n",
       "<ol class=list-inline><li>1</li><li>5</li><li>-2</li><li>6</li><li>-7</li><li>8</li><li>-3</li><li>4</li><li>-9</li></ol>\n"
      ],
      "text/latex": [
       "\\begin{enumerate*}\n",
       "\\item 1\n",
       "\\item 5\n",
       "\\item -2\n",
       "\\item 6\n",
       "\\item -7\n",
       "\\item 8\n",
       "\\item -3\n",
       "\\item 4\n",
       "\\item -9\n",
       "\\end{enumerate*}\n"
      ],
      "text/markdown": [
       "1. 1\n",
       "2. 5\n",
       "3. -2\n",
       "4. 6\n",
       "5. -7\n",
       "6. 8\n",
       "7. -3\n",
       "8. 4\n",
       "9. -9\n",
       "\n",
       "\n"
      ],
      "text/plain": [
       "[1]  1  5 -2  6 -7  8 -3  4 -9"
      ]
     },
     "metadata": {},
     "output_type": "display_data"
    }
   ],
   "source": [
    "L[[2]] # Vector"
   ]
  },
  {
   "cell_type": "code",
   "execution_count": 8,
   "metadata": {},
   "outputs": [
    {
     "data": {
      "text/html": [
       "<strong>$datos</strong> = <style>\n",
       ".list-inline {list-style: none; margin:0; padding: 0}\n",
       ".list-inline>li {display: inline-block}\n",
       ".list-inline>li:not(:last-child)::after {content: \"\\00b7\"; padding: 0 .5ex}\n",
       "</style>\n",
       "<ol class=list-inline><li>1</li><li>5</li><li>-2</li><li>6</li><li>-7</li><li>8</li><li>-3</li><li>4</li><li>-9</li></ol>\n"
      ],
      "text/latex": [
       "\\textbf{\\$datos} = \\begin{enumerate*}\n",
       "\\item 1\n",
       "\\item 5\n",
       "\\item -2\n",
       "\\item 6\n",
       "\\item -7\n",
       "\\item 8\n",
       "\\item -3\n",
       "\\item 4\n",
       "\\item -9\n",
       "\\end{enumerate*}\n"
      ],
      "text/markdown": [
       "**$datos** = 1. 1\n",
       "2. 5\n",
       "3. -2\n",
       "4. 6\n",
       "5. -7\n",
       "6. 8\n",
       "7. -3\n",
       "8. 4\n",
       "9. -9\n",
       "\n",
       "\n"
      ],
      "text/plain": [
       "$datos\n",
       "[1]  1  5 -2  6 -7  8 -3  4 -9\n"
      ]
     },
     "metadata": {},
     "output_type": "display_data"
    }
   ],
   "source": [
    "L[2] # lista"
   ]
  },
  {
   "cell_type": "code",
   "execution_count": 9,
   "metadata": {},
   "outputs": [
    {
     "data": {
      "text/html": [
       "<style>\n",
       ".list-inline {list-style: none; margin:0; padding: 0}\n",
       ".list-inline>li {display: inline-block}\n",
       ".list-inline>li:not(:last-child)::after {content: \"\\00b7\"; padding: 0 .5ex}\n",
       "</style>\n",
       "<ol class=list-inline><li>2</li><li>10</li><li>-4</li><li>12</li><li>-14</li><li>16</li><li>-6</li><li>8</li><li>-18</li></ol>\n"
      ],
      "text/latex": [
       "\\begin{enumerate*}\n",
       "\\item 2\n",
       "\\item 10\n",
       "\\item -4\n",
       "\\item 12\n",
       "\\item -14\n",
       "\\item 16\n",
       "\\item -6\n",
       "\\item 8\n",
       "\\item -18\n",
       "\\end{enumerate*}\n"
      ],
      "text/markdown": [
       "1. 2\n",
       "2. 10\n",
       "3. -4\n",
       "4. 12\n",
       "5. -14\n",
       "6. 16\n",
       "7. -6\n",
       "8. 8\n",
       "9. -18\n",
       "\n",
       "\n"
      ],
      "text/plain": [
       "[1]   2  10  -4  12 -14  16  -6   8 -18"
      ]
     },
     "metadata": {},
     "output_type": "display_data"
    }
   ],
   "source": [
    "L[[2]] * 2"
   ]
  },
  {
   "cell_type": "code",
   "execution_count": 10,
   "metadata": {},
   "outputs": [
    {
     "ename": "ERROR",
     "evalue": "Error in L[2] * 2: non-numeric argument to binary operator\n",
     "output_type": "error",
     "traceback": [
      "Error in L[2] * 2: non-numeric argument to binary operator\nTraceback:\n"
     ]
    }
   ],
   "source": [
    "L[2] * 2 # No puede operar como si fuera un vector porque es una lista"
   ]
  },
  {
   "cell_type": "code",
   "execution_count": 11,
   "metadata": {},
   "outputs": [
    {
     "name": "stdout",
     "output_type": "stream",
     "text": [
      "List of 4\n",
      " $ nombre: chr \"temperaturas\"\n",
      " $ datos : num [1:9] 1 5 -2 6 -7 8 -3 4 -9\n",
      " $ media : num 0.333\n",
      " $ sumas : num [1:9] 1 6 4 10 3 11 8 12 3\n"
     ]
    }
   ],
   "source": [
    "str(L)"
   ]
  },
  {
   "cell_type": "code",
   "execution_count": 12,
   "metadata": {},
   "outputs": [
    {
     "data": {
      "text/html": [
       "<style>\n",
       ".list-inline {list-style: none; margin:0; padding: 0}\n",
       ".list-inline>li {display: inline-block}\n",
       ".list-inline>li:not(:last-child)::after {content: \"\\00b7\"; padding: 0 .5ex}\n",
       "</style>\n",
       "<ol class=list-inline><li>'nombre'</li><li>'datos'</li><li>'media'</li><li>'sumas'</li></ol>\n"
      ],
      "text/latex": [
       "\\begin{enumerate*}\n",
       "\\item 'nombre'\n",
       "\\item 'datos'\n",
       "\\item 'media'\n",
       "\\item 'sumas'\n",
       "\\end{enumerate*}\n"
      ],
      "text/markdown": [
       "1. 'nombre'\n",
       "2. 'datos'\n",
       "3. 'media'\n",
       "4. 'sumas'\n",
       "\n",
       "\n"
      ],
      "text/plain": [
       "[1] \"nombre\" \"datos\"  \"media\"  \"sumas\" "
      ]
     },
     "metadata": {},
     "output_type": "display_data"
    }
   ],
   "source": [
    "names(L)"
   ]
  },
  {
   "cell_type": "code",
   "execution_count": null,
   "metadata": {},
   "outputs": [],
   "source": []
  }
 ],
 "metadata": {
  "kernelspec": {
   "display_name": "R",
   "language": "R",
   "name": "ir"
  },
  "language_info": {
   "codemirror_mode": "r",
   "file_extension": ".r",
   "mimetype": "text/x-r-source",
   "name": "R",
   "pygments_lexer": "r",
   "version": "3.6.3"
  }
 },
 "nbformat": 4,
 "nbformat_minor": 4
}
