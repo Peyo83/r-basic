{
 "cells": [
  {
   "cell_type": "code",
   "execution_count": 1,
   "metadata": {},
   "outputs": [],
   "source": [
    "nombres = c('Juan', 'Antonio', 'Ricardo', 'Juan', 'Juan', 'María', 'María')"
   ]
  },
  {
   "cell_type": "code",
   "execution_count": 2,
   "metadata": {},
   "outputs": [
    {
     "data": {
      "text/html": [
       "<style>\n",
       ".list-inline {list-style: none; margin:0; padding: 0}\n",
       ".list-inline>li {display: inline-block}\n",
       ".list-inline>li:not(:last-child)::after {content: \"\\00b7\"; padding: 0 .5ex}\n",
       "</style>\n",
       "<ol class=list-inline><li>'Juan'</li><li>'Antonio'</li><li>'Ricardo'</li><li>'Juan'</li><li>'Juan'</li><li>'María'</li><li>'María'</li></ol>\n"
      ],
      "text/latex": [
       "\\begin{enumerate*}\n",
       "\\item 'Juan'\n",
       "\\item 'Antonio'\n",
       "\\item 'Ricardo'\n",
       "\\item 'Juan'\n",
       "\\item 'Juan'\n",
       "\\item 'María'\n",
       "\\item 'María'\n",
       "\\end{enumerate*}\n"
      ],
      "text/markdown": [
       "1. 'Juan'\n",
       "2. 'Antonio'\n",
       "3. 'Ricardo'\n",
       "4. 'Juan'\n",
       "5. 'Juan'\n",
       "6. 'María'\n",
       "7. 'María'\n",
       "\n",
       "\n"
      ],
      "text/plain": [
       "[1] \"Juan\"    \"Antonio\" \"Ricardo\" \"Juan\"    \"Juan\"    \"María\"   \"María\"  "
      ]
     },
     "metadata": {},
     "output_type": "display_data"
    }
   ],
   "source": [
    "nombres"
   ]
  },
  {
   "cell_type": "code",
   "execution_count": 3,
   "metadata": {},
   "outputs": [
    {
     "data": {
      "text/html": [
       "<style>\n",
       ".list-inline {list-style: none; margin:0; padding: 0}\n",
       ".list-inline>li {display: inline-block}\n",
       ".list-inline>li:not(:last-child)::after {content: \"\\00b7\"; padding: 0 .5ex}\n",
       "</style>\n",
       "<ol class=list-inline><li>Juan</li><li>Antonio</li><li>Ricardo</li><li>Juan</li><li>Juan</li><li>María</li><li>María</li></ol>\n",
       "\n",
       "<details>\n",
       "\t<summary style=display:list-item;cursor:pointer>\n",
       "\t\t<strong>Levels</strong>:\n",
       "\t</summary>\n",
       "\t<style>\n",
       "\t.list-inline {list-style: none; margin:0; padding: 0}\n",
       "\t.list-inline>li {display: inline-block}\n",
       "\t.list-inline>li:not(:last-child)::after {content: \"\\00b7\"; padding: 0 .5ex}\n",
       "\t</style>\n",
       "\t<ol class=list-inline><li>'Antonio'</li><li>'Juan'</li><li>'María'</li><li>'Ricardo'</li></ol>\n",
       "</details>"
      ],
      "text/latex": [
       "\\begin{enumerate*}\n",
       "\\item Juan\n",
       "\\item Antonio\n",
       "\\item Ricardo\n",
       "\\item Juan\n",
       "\\item Juan\n",
       "\\item María\n",
       "\\item María\n",
       "\\end{enumerate*}\n",
       "\n",
       "\\emph{Levels}: \\begin{enumerate*}\n",
       "\\item 'Antonio'\n",
       "\\item 'Juan'\n",
       "\\item 'María'\n",
       "\\item 'Ricardo'\n",
       "\\end{enumerate*}\n"
      ],
      "text/markdown": [
       "1. Juan\n",
       "2. Antonio\n",
       "3. Ricardo\n",
       "4. Juan\n",
       "5. Juan\n",
       "6. María\n",
       "7. María\n",
       "\n",
       "\n",
       "\n",
       "**Levels**: 1. 'Antonio'\n",
       "2. 'Juan'\n",
       "3. 'María'\n",
       "4. 'Ricardo'\n",
       "\n",
       "\n"
      ],
      "text/plain": [
       "[1] Juan    Antonio Ricardo Juan    Juan    María   María  \n",
       "Levels: Antonio Juan María Ricardo"
      ]
     },
     "metadata": {},
     "output_type": "display_data"
    }
   ],
   "source": [
    "nombres.factor = factor(nombres)\n",
    "nombres.factor"
   ]
  },
  {
   "cell_type": "markdown",
   "metadata": {},
   "source": [
    "Factor -> Lista con etiquetas generadas"
   ]
  },
  {
   "cell_type": "code",
   "execution_count": 5,
   "metadata": {},
   "outputs": [
    {
     "data": {
      "text/html": [
       "<style>\n",
       ".list-inline {list-style: none; margin:0; padding: 0}\n",
       ".list-inline>li {display: inline-block}\n",
       ".list-inline>li:not(:last-child)::after {content: \"\\00b7\"; padding: 0 .5ex}\n",
       "</style>\n",
       "<ol class=list-inline><li>M</li><li>H</li><li>H</li><li>M</li><li>M</li><li>M</li><li>M</li><li>H</li><li>H</li></ol>\n",
       "\n",
       "<details>\n",
       "\t<summary style=display:list-item;cursor:pointer>\n",
       "\t\t<strong>Levels</strong>:\n",
       "\t</summary>\n",
       "\t<style>\n",
       "\t.list-inline {list-style: none; margin:0; padding: 0}\n",
       "\t.list-inline>li {display: inline-block}\n",
       "\t.list-inline>li:not(:last-child)::after {content: \"\\00b7\"; padding: 0 .5ex}\n",
       "\t</style>\n",
       "\t<ol class=list-inline><li>'H'</li><li>'M'</li></ol>\n",
       "</details>"
      ],
      "text/latex": [
       "\\begin{enumerate*}\n",
       "\\item M\n",
       "\\item H\n",
       "\\item H\n",
       "\\item M\n",
       "\\item M\n",
       "\\item M\n",
       "\\item M\n",
       "\\item H\n",
       "\\item H\n",
       "\\end{enumerate*}\n",
       "\n",
       "\\emph{Levels}: \\begin{enumerate*}\n",
       "\\item 'H'\n",
       "\\item 'M'\n",
       "\\end{enumerate*}\n"
      ],
      "text/markdown": [
       "1. M\n",
       "2. H\n",
       "3. H\n",
       "4. M\n",
       "5. M\n",
       "6. M\n",
       "7. M\n",
       "8. H\n",
       "9. H\n",
       "\n",
       "\n",
       "\n",
       "**Levels**: 1. 'H'\n",
       "2. 'M'\n",
       "\n",
       "\n"
      ],
      "text/plain": [
       "[1] M H H M M M M H H\n",
       "Levels: H M"
      ]
     },
     "metadata": {},
     "output_type": "display_data"
    }
   ],
   "source": [
    "gender = c('M', 'H', 'H', 'M', 'M', 'M', 'M', 'H', 'H')\n",
    "gender.fact = factor(gender)\n",
    "gender.fact"
   ]
  },
  {
   "cell_type": "code",
   "execution_count": 6,
   "metadata": {},
   "outputs": [],
   "source": [
    "gender.fact2 = as.factor(gender)"
   ]
  },
  {
   "cell_type": "code",
   "execution_count": 7,
   "metadata": {},
   "outputs": [
    {
     "data": {
      "text/html": [
       "<style>\n",
       ".list-inline {list-style: none; margin:0; padding: 0}\n",
       ".list-inline>li {display: inline-block}\n",
       ".list-inline>li:not(:last-child)::after {content: \"\\00b7\"; padding: 0 .5ex}\n",
       "</style>\n",
       "<ol class=list-inline><li>M</li><li>H</li><li>H</li><li>M</li><li>M</li><li>M</li><li>M</li><li>H</li><li>H</li></ol>\n",
       "\n",
       "<details>\n",
       "\t<summary style=display:list-item;cursor:pointer>\n",
       "\t\t<strong>Levels</strong>:\n",
       "\t</summary>\n",
       "\t<style>\n",
       "\t.list-inline {list-style: none; margin:0; padding: 0}\n",
       "\t.list-inline>li {display: inline-block}\n",
       "\t.list-inline>li:not(:last-child)::after {content: \"\\00b7\"; padding: 0 .5ex}\n",
       "\t</style>\n",
       "\t<ol class=list-inline><li>'H'</li><li>'M'</li></ol>\n",
       "</details>"
      ],
      "text/latex": [
       "\\begin{enumerate*}\n",
       "\\item M\n",
       "\\item H\n",
       "\\item H\n",
       "\\item M\n",
       "\\item M\n",
       "\\item M\n",
       "\\item M\n",
       "\\item H\n",
       "\\item H\n",
       "\\end{enumerate*}\n",
       "\n",
       "\\emph{Levels}: \\begin{enumerate*}\n",
       "\\item 'H'\n",
       "\\item 'M'\n",
       "\\end{enumerate*}\n"
      ],
      "text/markdown": [
       "1. M\n",
       "2. H\n",
       "3. H\n",
       "4. M\n",
       "5. M\n",
       "6. M\n",
       "7. M\n",
       "8. H\n",
       "9. H\n",
       "\n",
       "\n",
       "\n",
       "**Levels**: 1. 'H'\n",
       "2. 'M'\n",
       "\n",
       "\n"
      ],
      "text/plain": [
       "[1] M H H M M M M H H\n",
       "Levels: H M"
      ]
     },
     "metadata": {},
     "output_type": "display_data"
    }
   ],
   "source": [
    "gender.fact2"
   ]
  },
  {
   "cell_type": "code",
   "execution_count": 10,
   "metadata": {},
   "outputs": [],
   "source": [
    "gender.fact3 = factor(gender, levels = c('M', 'H', 'B'))"
   ]
  },
  {
   "cell_type": "code",
   "execution_count": 11,
   "metadata": {},
   "outputs": [
    {
     "data": {
      "text/html": [
       "<style>\n",
       ".list-inline {list-style: none; margin:0; padding: 0}\n",
       ".list-inline>li {display: inline-block}\n",
       ".list-inline>li:not(:last-child)::after {content: \"\\00b7\"; padding: 0 .5ex}\n",
       "</style>\n",
       "<ol class=list-inline><li>M</li><li>H</li><li>H</li><li>M</li><li>M</li><li>M</li><li>M</li><li>H</li><li>H</li></ol>\n",
       "\n",
       "<details>\n",
       "\t<summary style=display:list-item;cursor:pointer>\n",
       "\t\t<strong>Levels</strong>:\n",
       "\t</summary>\n",
       "\t<style>\n",
       "\t.list-inline {list-style: none; margin:0; padding: 0}\n",
       "\t.list-inline>li {display: inline-block}\n",
       "\t.list-inline>li:not(:last-child)::after {content: \"\\00b7\"; padding: 0 .5ex}\n",
       "\t</style>\n",
       "\t<ol class=list-inline><li>'M'</li><li>'H'</li><li>'B'</li></ol>\n",
       "</details>"
      ],
      "text/latex": [
       "\\begin{enumerate*}\n",
       "\\item M\n",
       "\\item H\n",
       "\\item H\n",
       "\\item M\n",
       "\\item M\n",
       "\\item M\n",
       "\\item M\n",
       "\\item H\n",
       "\\item H\n",
       "\\end{enumerate*}\n",
       "\n",
       "\\emph{Levels}: \\begin{enumerate*}\n",
       "\\item 'M'\n",
       "\\item 'H'\n",
       "\\item 'B'\n",
       "\\end{enumerate*}\n"
      ],
      "text/markdown": [
       "1. M\n",
       "2. H\n",
       "3. H\n",
       "4. M\n",
       "5. M\n",
       "6. M\n",
       "7. M\n",
       "8. H\n",
       "9. H\n",
       "\n",
       "\n",
       "\n",
       "**Levels**: 1. 'M'\n",
       "2. 'H'\n",
       "3. 'B'\n",
       "\n",
       "\n"
      ],
      "text/plain": [
       "[1] M H H M M M M H H\n",
       "Levels: M H B"
      ]
     },
     "metadata": {},
     "output_type": "display_data"
    }
   ],
   "source": [
    "gender.fact3"
   ]
  },
  {
   "cell_type": "code",
   "execution_count": 14,
   "metadata": {},
   "outputs": [
    {
     "data": {
      "text/html": [
       "<style>\n",
       ".list-inline {list-style: none; margin:0; padding: 0}\n",
       ".list-inline>li {display: inline-block}\n",
       ".list-inline>li:not(:last-child)::after {content: \"\\00b7\"; padding: 0 .5ex}\n",
       "</style>\n",
       "<ol class=list-inline><li>Mujer</li><li>Hombre</li><li>Hombre</li><li>Mujer</li><li>Mujer</li><li>Mujer</li><li>Mujer</li><li>Hombre</li><li>Hombre</li></ol>\n",
       "\n",
       "<details>\n",
       "\t<summary style=display:list-item;cursor:pointer>\n",
       "\t\t<strong>Levels</strong>:\n",
       "\t</summary>\n",
       "\t<style>\n",
       "\t.list-inline {list-style: none; margin:0; padding: 0}\n",
       "\t.list-inline>li {display: inline-block}\n",
       "\t.list-inline>li:not(:last-child)::after {content: \"\\00b7\"; padding: 0 .5ex}\n",
       "\t</style>\n",
       "\t<ol class=list-inline><li>'Mujer'</li><li>'Hombre'</li><li>'Bisexual'</li></ol>\n",
       "</details>"
      ],
      "text/latex": [
       "\\begin{enumerate*}\n",
       "\\item Mujer\n",
       "\\item Hombre\n",
       "\\item Hombre\n",
       "\\item Mujer\n",
       "\\item Mujer\n",
       "\\item Mujer\n",
       "\\item Mujer\n",
       "\\item Hombre\n",
       "\\item Hombre\n",
       "\\end{enumerate*}\n",
       "\n",
       "\\emph{Levels}: \\begin{enumerate*}\n",
       "\\item 'Mujer'\n",
       "\\item 'Hombre'\n",
       "\\item 'Bisexual'\n",
       "\\end{enumerate*}\n"
      ],
      "text/markdown": [
       "1. Mujer\n",
       "2. Hombre\n",
       "3. Hombre\n",
       "4. Mujer\n",
       "5. Mujer\n",
       "6. Mujer\n",
       "7. Mujer\n",
       "8. Hombre\n",
       "9. Hombre\n",
       "\n",
       "\n",
       "\n",
       "**Levels**: 1. 'Mujer'\n",
       "2. 'Hombre'\n",
       "3. 'Bisexual'\n",
       "\n",
       "\n"
      ],
      "text/plain": [
       "[1] Mujer  Hombre Hombre Mujer  Mujer  Mujer  Mujer  Hombre Hombre\n",
       "Levels: Mujer Hombre Bisexual"
      ]
     },
     "metadata": {},
     "output_type": "display_data"
    }
   ],
   "source": [
    "gender.fact4 = factor(gender, levels = c('M', 'H', 'B'), labels = c('Mujer', 'Hombre', 'Bisexual'))\n",
    "gender.fact4"
   ]
  },
  {
   "cell_type": "code",
   "execution_count": 15,
   "metadata": {},
   "outputs": [
    {
     "data": {
      "text/html": [
       "<style>\n",
       ".list-inline {list-style: none; margin:0; padding: 0}\n",
       ".list-inline>li {display: inline-block}\n",
       ".list-inline>li:not(:last-child)::after {content: \"\\00b7\"; padding: 0 .5ex}\n",
       "</style>\n",
       "<ol class=list-inline><li>'H'</li><li>'M'</li></ol>\n"
      ],
      "text/latex": [
       "\\begin{enumerate*}\n",
       "\\item 'H'\n",
       "\\item 'M'\n",
       "\\end{enumerate*}\n"
      ],
      "text/markdown": [
       "1. 'H'\n",
       "2. 'M'\n",
       "\n",
       "\n"
      ],
      "text/plain": [
       "[1] \"H\" \"M\""
      ]
     },
     "metadata": {},
     "output_type": "display_data"
    }
   ],
   "source": [
    "levels(gender.fact)"
   ]
  },
  {
   "cell_type": "code",
   "execution_count": 16,
   "metadata": {},
   "outputs": [
    {
     "data": {
      "text/html": [
       "<style>\n",
       ".list-inline {list-style: none; margin:0; padding: 0}\n",
       ".list-inline>li {display: inline-block}\n",
       ".list-inline>li:not(:last-child)::after {content: \"\\00b7\"; padding: 0 .5ex}\n",
       "</style>\n",
       "<ol class=list-inline><li>'Mujer'</li><li>'Hombre'</li><li>'Bisexual'</li></ol>\n"
      ],
      "text/latex": [
       "\\begin{enumerate*}\n",
       "\\item 'Mujer'\n",
       "\\item 'Hombre'\n",
       "\\item 'Bisexual'\n",
       "\\end{enumerate*}\n"
      ],
      "text/markdown": [
       "1. 'Mujer'\n",
       "2. 'Hombre'\n",
       "3. 'Bisexual'\n",
       "\n",
       "\n"
      ],
      "text/plain": [
       "[1] \"Mujer\"    \"Hombre\"   \"Bisexual\""
      ]
     },
     "metadata": {},
     "output_type": "display_data"
    }
   ],
   "source": [
    "levels(gender.fact4)"
   ]
  },
  {
   "cell_type": "code",
   "execution_count": 18,
   "metadata": {},
   "outputs": [
    {
     "data": {
      "text/html": [
       "<style>\n",
       ".list-inline {list-style: none; margin:0; padding: 0}\n",
       ".list-inline>li {display: inline-block}\n",
       ".list-inline>li:not(:last-child)::after {content: \"\\00b7\"; padding: 0 .5ex}\n",
       "</style>\n",
       "<ol class=list-inline><li>Femenino</li><li>Masculino</li><li>Masculino</li><li>Femenino</li><li>Femenino</li><li>Femenino</li><li>Femenino</li><li>Masculino</li><li>Masculino</li></ol>\n",
       "\n",
       "<details>\n",
       "\t<summary style=display:list-item;cursor:pointer>\n",
       "\t\t<strong>Levels</strong>:\n",
       "\t</summary>\n",
       "\t<style>\n",
       "\t.list-inline {list-style: none; margin:0; padding: 0}\n",
       "\t.list-inline>li {display: inline-block}\n",
       "\t.list-inline>li:not(:last-child)::after {content: \"\\00b7\"; padding: 0 .5ex}\n",
       "\t</style>\n",
       "\t<ol class=list-inline><li>'Femenino'</li><li>'Masculino'</li><li>'Híbrido'</li></ol>\n",
       "</details>"
      ],
      "text/latex": [
       "\\begin{enumerate*}\n",
       "\\item Femenino\n",
       "\\item Masculino\n",
       "\\item Masculino\n",
       "\\item Femenino\n",
       "\\item Femenino\n",
       "\\item Femenino\n",
       "\\item Femenino\n",
       "\\item Masculino\n",
       "\\item Masculino\n",
       "\\end{enumerate*}\n",
       "\n",
       "\\emph{Levels}: \\begin{enumerate*}\n",
       "\\item 'Femenino'\n",
       "\\item 'Masculino'\n",
       "\\item 'Híbrido'\n",
       "\\end{enumerate*}\n"
      ],
      "text/markdown": [
       "1. Femenino\n",
       "2. Masculino\n",
       "3. Masculino\n",
       "4. Femenino\n",
       "5. Femenino\n",
       "6. Femenino\n",
       "7. Femenino\n",
       "8. Masculino\n",
       "9. Masculino\n",
       "\n",
       "\n",
       "\n",
       "**Levels**: 1. 'Femenino'\n",
       "2. 'Masculino'\n",
       "3. 'Híbrido'\n",
       "\n",
       "\n"
      ],
      "text/plain": [
       "[1] Femenino  Masculino Masculino Femenino  Femenino  Femenino  Femenino \n",
       "[8] Masculino Masculino\n",
       "Levels: Femenino Masculino Híbrido"
      ]
     },
     "metadata": {},
     "output_type": "display_data"
    }
   ],
   "source": [
    "levels(gender.fact4) = c('Femenino', 'Masculino', 'Híbrido')\n",
    "gender.fact4"
   ]
  },
  {
   "cell_type": "code",
   "execution_count": 19,
   "metadata": {},
   "outputs": [
    {
     "data": {
      "text/html": [
       "<style>\n",
       ".list-inline {list-style: none; margin:0; padding: 0}\n",
       ".list-inline>li {display: inline-block}\n",
       ".list-inline>li:not(:last-child)::after {content: \"\\00b7\"; padding: 0 .5ex}\n",
       "</style>\n",
       "<ol class=list-inline><li>1</li><li>4</li><li>3</li><li>2</li><li>4</li><li>3</li><li>1</li><li>2</li><li>4</li><li>3</li><li>3</li><li>1</li><li>4</li><li>4</li><li>4</li><li>1</li><li>2</li></ol>\n"
      ],
      "text/latex": [
       "\\begin{enumerate*}\n",
       "\\item 1\n",
       "\\item 4\n",
       "\\item 3\n",
       "\\item 2\n",
       "\\item 4\n",
       "\\item 3\n",
       "\\item 1\n",
       "\\item 2\n",
       "\\item 4\n",
       "\\item 3\n",
       "\\item 3\n",
       "\\item 1\n",
       "\\item 4\n",
       "\\item 4\n",
       "\\item 4\n",
       "\\item 1\n",
       "\\item 2\n",
       "\\end{enumerate*}\n"
      ],
      "text/markdown": [
       "1. 1\n",
       "2. 4\n",
       "3. 3\n",
       "4. 2\n",
       "5. 4\n",
       "6. 3\n",
       "7. 1\n",
       "8. 2\n",
       "9. 4\n",
       "10. 3\n",
       "11. 3\n",
       "12. 1\n",
       "13. 4\n",
       "14. 4\n",
       "15. 4\n",
       "16. 1\n",
       "17. 2\n",
       "\n",
       "\n"
      ],
      "text/plain": [
       " [1] 1 4 3 2 4 3 1 2 4 3 3 1 4 4 4 1 2"
      ]
     },
     "metadata": {},
     "output_type": "display_data"
    }
   ],
   "source": [
    "notas = c(1,4,3,2,4,3,1,2,4,3,3,1,4,4,4,1,2)\n",
    "notas"
   ]
  },
  {
   "cell_type": "code",
   "execution_count": 20,
   "metadata": {},
   "outputs": [],
   "source": [
    "notas.factor = factor(notas)"
   ]
  },
  {
   "cell_type": "code",
   "execution_count": 21,
   "metadata": {},
   "outputs": [
    {
     "data": {
      "text/html": [
       "<style>\n",
       ".list-inline {list-style: none; margin:0; padding: 0}\n",
       ".list-inline>li {display: inline-block}\n",
       ".list-inline>li:not(:last-child)::after {content: \"\\00b7\"; padding: 0 .5ex}\n",
       "</style>\n",
       "<ol class=list-inline><li>1</li><li>4</li><li>3</li><li>2</li><li>4</li><li>3</li><li>1</li><li>2</li><li>4</li><li>3</li><li>3</li><li>1</li><li>4</li><li>4</li><li>4</li><li>1</li><li>2</li></ol>\n",
       "\n",
       "<details>\n",
       "\t<summary style=display:list-item;cursor:pointer>\n",
       "\t\t<strong>Levels</strong>:\n",
       "\t</summary>\n",
       "\t<style>\n",
       "\t.list-inline {list-style: none; margin:0; padding: 0}\n",
       "\t.list-inline>li {display: inline-block}\n",
       "\t.list-inline>li:not(:last-child)::after {content: \"\\00b7\"; padding: 0 .5ex}\n",
       "\t</style>\n",
       "\t<ol class=list-inline><li>'1'</li><li>'2'</li><li>'3'</li><li>'4'</li></ol>\n",
       "</details>"
      ],
      "text/latex": [
       "\\begin{enumerate*}\n",
       "\\item 1\n",
       "\\item 4\n",
       "\\item 3\n",
       "\\item 2\n",
       "\\item 4\n",
       "\\item 3\n",
       "\\item 1\n",
       "\\item 2\n",
       "\\item 4\n",
       "\\item 3\n",
       "\\item 3\n",
       "\\item 1\n",
       "\\item 4\n",
       "\\item 4\n",
       "\\item 4\n",
       "\\item 1\n",
       "\\item 2\n",
       "\\end{enumerate*}\n",
       "\n",
       "\\emph{Levels}: \\begin{enumerate*}\n",
       "\\item '1'\n",
       "\\item '2'\n",
       "\\item '3'\n",
       "\\item '4'\n",
       "\\end{enumerate*}\n"
      ],
      "text/markdown": [
       "1. 1\n",
       "2. 4\n",
       "3. 3\n",
       "4. 2\n",
       "5. 4\n",
       "6. 3\n",
       "7. 1\n",
       "8. 2\n",
       "9. 4\n",
       "10. 3\n",
       "11. 3\n",
       "12. 1\n",
       "13. 4\n",
       "14. 4\n",
       "15. 4\n",
       "16. 1\n",
       "17. 2\n",
       "\n",
       "\n",
       "\n",
       "**Levels**: 1. '1'\n",
       "2. '2'\n",
       "3. '3'\n",
       "4. '4'\n",
       "\n",
       "\n"
      ],
      "text/plain": [
       " [1] 1 4 3 2 4 3 1 2 4 3 3 1 4 4 4 1 2\n",
       "Levels: 1 2 3 4"
      ]
     },
     "metadata": {},
     "output_type": "display_data"
    }
   ],
   "source": [
    "notas.factor"
   ]
  },
  {
   "cell_type": "code",
   "execution_count": 22,
   "metadata": {},
   "outputs": [],
   "source": [
    "levels(notas.factor) = c('Suspendido', 'Suficiente', 'Notable', 'Excelente')"
   ]
  },
  {
   "cell_type": "code",
   "execution_count": 23,
   "metadata": {},
   "outputs": [
    {
     "data": {
      "text/html": [
       "<style>\n",
       ".list-inline {list-style: none; margin:0; padding: 0}\n",
       ".list-inline>li {display: inline-block}\n",
       ".list-inline>li:not(:last-child)::after {content: \"\\00b7\"; padding: 0 .5ex}\n",
       "</style>\n",
       "<ol class=list-inline><li>Suspendido</li><li>Excelente</li><li>Notable</li><li>Suficiente</li><li>Excelente</li><li>Notable</li><li>Suspendido</li><li>Suficiente</li><li>Excelente</li><li>Notable</li><li>Notable</li><li>Suspendido</li><li>Excelente</li><li>Excelente</li><li>Excelente</li><li>Suspendido</li><li>Suficiente</li></ol>\n",
       "\n",
       "<details>\n",
       "\t<summary style=display:list-item;cursor:pointer>\n",
       "\t\t<strong>Levels</strong>:\n",
       "\t</summary>\n",
       "\t<style>\n",
       "\t.list-inline {list-style: none; margin:0; padding: 0}\n",
       "\t.list-inline>li {display: inline-block}\n",
       "\t.list-inline>li:not(:last-child)::after {content: \"\\00b7\"; padding: 0 .5ex}\n",
       "\t</style>\n",
       "\t<ol class=list-inline><li>'Suspendido'</li><li>'Suficiente'</li><li>'Notable'</li><li>'Excelente'</li></ol>\n",
       "</details>"
      ],
      "text/latex": [
       "\\begin{enumerate*}\n",
       "\\item Suspendido\n",
       "\\item Excelente\n",
       "\\item Notable\n",
       "\\item Suficiente\n",
       "\\item Excelente\n",
       "\\item Notable\n",
       "\\item Suspendido\n",
       "\\item Suficiente\n",
       "\\item Excelente\n",
       "\\item Notable\n",
       "\\item Notable\n",
       "\\item Suspendido\n",
       "\\item Excelente\n",
       "\\item Excelente\n",
       "\\item Excelente\n",
       "\\item Suspendido\n",
       "\\item Suficiente\n",
       "\\end{enumerate*}\n",
       "\n",
       "\\emph{Levels}: \\begin{enumerate*}\n",
       "\\item 'Suspendido'\n",
       "\\item 'Suficiente'\n",
       "\\item 'Notable'\n",
       "\\item 'Excelente'\n",
       "\\end{enumerate*}\n"
      ],
      "text/markdown": [
       "1. Suspendido\n",
       "2. Excelente\n",
       "3. Notable\n",
       "4. Suficiente\n",
       "5. Excelente\n",
       "6. Notable\n",
       "7. Suspendido\n",
       "8. Suficiente\n",
       "9. Excelente\n",
       "10. Notable\n",
       "11. Notable\n",
       "12. Suspendido\n",
       "13. Excelente\n",
       "14. Excelente\n",
       "15. Excelente\n",
       "16. Suspendido\n",
       "17. Suficiente\n",
       "\n",
       "\n",
       "\n",
       "**Levels**: 1. 'Suspendido'\n",
       "2. 'Suficiente'\n",
       "3. 'Notable'\n",
       "4. 'Excelente'\n",
       "\n",
       "\n"
      ],
      "text/plain": [
       " [1] Suspendido Excelente  Notable    Suficiente Excelente  Notable   \n",
       " [7] Suspendido Suficiente Excelente  Notable    Notable    Suspendido\n",
       "[13] Excelente  Excelente  Excelente  Suspendido Suficiente\n",
       "Levels: Suspendido Suficiente Notable Excelente"
      ]
     },
     "metadata": {},
     "output_type": "display_data"
    }
   ],
   "source": [
    "notas.factor"
   ]
  },
  {
   "cell_type": "code",
   "execution_count": 24,
   "metadata": {},
   "outputs": [
    {
     "data": {
      "text/html": [
       "<style>\n",
       ".list-inline {list-style: none; margin:0; padding: 0}\n",
       ".list-inline>li {display: inline-block}\n",
       ".list-inline>li:not(:last-child)::after {content: \"\\00b7\"; padding: 0 .5ex}\n",
       "</style>\n",
       "<ol class=list-inline><li>Suspendido</li><li>Aprobado</li><li>Aprobado</li><li>Aprobado</li><li>Aprobado</li><li>Aprobado</li><li>Suspendido</li><li>Aprobado</li><li>Aprobado</li><li>Aprobado</li><li>Aprobado</li><li>Suspendido</li><li>Aprobado</li><li>Aprobado</li><li>Aprobado</li><li>Suspendido</li><li>Aprobado</li></ol>\n",
       "\n",
       "<details>\n",
       "\t<summary style=display:list-item;cursor:pointer>\n",
       "\t\t<strong>Levels</strong>:\n",
       "\t</summary>\n",
       "\t<style>\n",
       "\t.list-inline {list-style: none; margin:0; padding: 0}\n",
       "\t.list-inline>li {display: inline-block}\n",
       "\t.list-inline>li:not(:last-child)::after {content: \"\\00b7\"; padding: 0 .5ex}\n",
       "\t</style>\n",
       "\t<ol class=list-inline><li>'Suspendido'</li><li>'Aprobado'</li></ol>\n",
       "</details>"
      ],
      "text/latex": [
       "\\begin{enumerate*}\n",
       "\\item Suspendido\n",
       "\\item Aprobado\n",
       "\\item Aprobado\n",
       "\\item Aprobado\n",
       "\\item Aprobado\n",
       "\\item Aprobado\n",
       "\\item Suspendido\n",
       "\\item Aprobado\n",
       "\\item Aprobado\n",
       "\\item Aprobado\n",
       "\\item Aprobado\n",
       "\\item Suspendido\n",
       "\\item Aprobado\n",
       "\\item Aprobado\n",
       "\\item Aprobado\n",
       "\\item Suspendido\n",
       "\\item Aprobado\n",
       "\\end{enumerate*}\n",
       "\n",
       "\\emph{Levels}: \\begin{enumerate*}\n",
       "\\item 'Suspendido'\n",
       "\\item 'Aprobado'\n",
       "\\end{enumerate*}\n"
      ],
      "text/markdown": [
       "1. Suspendido\n",
       "2. Aprobado\n",
       "3. Aprobado\n",
       "4. Aprobado\n",
       "5. Aprobado\n",
       "6. Aprobado\n",
       "7. Suspendido\n",
       "8. Aprobado\n",
       "9. Aprobado\n",
       "10. Aprobado\n",
       "11. Aprobado\n",
       "12. Suspendido\n",
       "13. Aprobado\n",
       "14. Aprobado\n",
       "15. Aprobado\n",
       "16. Suspendido\n",
       "17. Aprobado\n",
       "\n",
       "\n",
       "\n",
       "**Levels**: 1. 'Suspendido'\n",
       "2. 'Aprobado'\n",
       "\n",
       "\n"
      ],
      "text/plain": [
       " [1] Suspendido Aprobado   Aprobado   Aprobado   Aprobado   Aprobado  \n",
       " [7] Suspendido Aprobado   Aprobado   Aprobado   Aprobado   Suspendido\n",
       "[13] Aprobado   Aprobado   Aprobado   Suspendido Aprobado  \n",
       "Levels: Suspendido Aprobado"
      ]
     },
     "metadata": {},
     "output_type": "display_data"
    }
   ],
   "source": [
    "levels(notas.factor) = c('Suspendido', 'Aprobado', 'Aprobado', 'Aprobado')\n",
    "notas.factor"
   ]
  },
  {
   "cell_type": "code",
   "execution_count": 25,
   "metadata": {},
   "outputs": [
    {
     "data": {
      "text/html": [
       "<style>\n",
       ".list-inline {list-style: none; margin:0; padding: 0}\n",
       ".list-inline>li {display: inline-block}\n",
       ".list-inline>li:not(:last-child)::after {content: \"\\00b7\"; padding: 0 .5ex}\n",
       "</style>\n",
       "<ol class=list-inline><li>1</li><li>4</li><li>3</li><li>2</li><li>4</li><li>3</li><li>1</li><li>2</li><li>4</li><li>3</li><li>3</li><li>1</li><li>4</li><li>4</li><li>4</li><li>1</li><li>2</li></ol>\n"
      ],
      "text/latex": [
       "\\begin{enumerate*}\n",
       "\\item 1\n",
       "\\item 4\n",
       "\\item 3\n",
       "\\item 2\n",
       "\\item 4\n",
       "\\item 3\n",
       "\\item 1\n",
       "\\item 2\n",
       "\\item 4\n",
       "\\item 3\n",
       "\\item 3\n",
       "\\item 1\n",
       "\\item 4\n",
       "\\item 4\n",
       "\\item 4\n",
       "\\item 1\n",
       "\\item 2\n",
       "\\end{enumerate*}\n"
      ],
      "text/markdown": [
       "1. 1\n",
       "2. 4\n",
       "3. 3\n",
       "4. 2\n",
       "5. 4\n",
       "6. 3\n",
       "7. 1\n",
       "8. 2\n",
       "9. 4\n",
       "10. 3\n",
       "11. 3\n",
       "12. 1\n",
       "13. 4\n",
       "14. 4\n",
       "15. 4\n",
       "16. 1\n",
       "17. 2\n",
       "\n",
       "\n"
      ],
      "text/plain": [
       " [1] 1 4 3 2 4 3 1 2 4 3 3 1 4 4 4 1 2"
      ]
     },
     "metadata": {},
     "output_type": "display_data"
    }
   ],
   "source": [
    "notas"
   ]
  },
  {
   "cell_type": "code",
   "execution_count": 32,
   "metadata": {},
   "outputs": [
    {
     "data": {
      "text/html": [
       "<style>\n",
       ".list-inline {list-style: none; margin:0; padding: 0}\n",
       ".list-inline>li {display: inline-block}\n",
       ".list-inline>li:not(:last-child)::after {content: \"\\00b7\"; padding: 0 .5ex}\n",
       "</style>\n",
       "<ol class=list-inline><li>Sus</li><li>Exc</li><li>Not</li><li>Suf</li><li>Exc</li><li>Not</li><li>Sus</li><li>Suf</li><li>Exc</li><li>Not</li><li>Not</li><li>Sus</li><li>Exc</li><li>Exc</li><li>Exc</li><li>Sus</li><li>Suf</li></ol>\n",
       "\n",
       "<details>\n",
       "\t<summary style=display:list-item;cursor:pointer>\n",
       "\t\t<strong>Levels</strong>:\n",
       "\t</summary>\n",
       "\t<style>\n",
       "\t.list-inline {list-style: none; margin:0; padding: 0}\n",
       "\t.list-inline>li {display: inline-block}\n",
       "\t.list-inline>li:not(:last-child)::after {content: \"\\00b7\"; padding: 0 .5ex}\n",
       "\t</style>\n",
       "\t<ol class=list-inline><li>'Sus'</li><li>'Suf'</li><li>'Not'</li><li>'Exc'</li></ol>\n",
       "</details>"
      ],
      "text/latex": [
       "\\begin{enumerate*}\n",
       "\\item Sus\n",
       "\\item Exc\n",
       "\\item Not\n",
       "\\item Suf\n",
       "\\item Exc\n",
       "\\item Not\n",
       "\\item Sus\n",
       "\\item Suf\n",
       "\\item Exc\n",
       "\\item Not\n",
       "\\item Not\n",
       "\\item Sus\n",
       "\\item Exc\n",
       "\\item Exc\n",
       "\\item Exc\n",
       "\\item Sus\n",
       "\\item Suf\n",
       "\\end{enumerate*}\n",
       "\n",
       "\\emph{Levels}: \\begin{enumerate*}\n",
       "\\item 'Sus'\n",
       "\\item 'Suf'\n",
       "\\item 'Not'\n",
       "\\item 'Exc'\n",
       "\\end{enumerate*}\n"
      ],
      "text/markdown": [
       "1. Sus\n",
       "2. Exc\n",
       "3. Not\n",
       "4. Suf\n",
       "5. Exc\n",
       "6. Not\n",
       "7. Sus\n",
       "8. Suf\n",
       "9. Exc\n",
       "10. Not\n",
       "11. Not\n",
       "12. Sus\n",
       "13. Exc\n",
       "14. Exc\n",
       "15. Exc\n",
       "16. Sus\n",
       "17. Suf\n",
       "\n",
       "\n",
       "\n",
       "**Levels**: 1. 'Sus'\n",
       "2. 'Suf'\n",
       "3. 'Not'\n",
       "4. 'Exc'\n",
       "\n",
       "\n"
      ],
      "text/plain": [
       " [1] Sus Exc Not Suf Exc Not Sus Suf Exc Not Not Sus Exc Exc Exc Sus Suf\n",
       "Levels: Sus < Suf < Not < Exc"
      ]
     },
     "metadata": {},
     "output_type": "display_data"
    }
   ],
   "source": [
    "ordered(notas, labels = c('Sus', 'Suf', 'Not', 'Exc'))"
   ]
  },
  {
   "cell_type": "code",
   "execution_count": null,
   "metadata": {},
   "outputs": [],
   "source": []
  }
 ],
 "metadata": {
  "kernelspec": {
   "display_name": "R",
   "language": "R",
   "name": "ir"
  },
  "language_info": {
   "codemirror_mode": "r",
   "file_extension": ".r",
   "mimetype": "text/x-r-source",
   "name": "R",
   "pygments_lexer": "r",
   "version": "3.6.3"
  }
 },
 "nbformat": 4,
 "nbformat_minor": 4
}
